{
  "nbformat": 4,
  "nbformat_minor": 0,
  "metadata": {
    "colab": {
      "name": "GCP.ipynb",
      "provenance": [],
      "collapsed_sections": [],
      "authorship_tag": "ABX9TyPl7+jm33iMRsCFCM6y2J3G",
      "include_colab_link": true
    },
    "kernelspec": {
      "name": "python3",
      "display_name": "Python 3"
    },
    "language_info": {
      "name": "python"
    }
  },
  "cells": [
    {
      "cell_type": "markdown",
      "metadata": {
        "id": "view-in-github",
        "colab_type": "text"
      },
      "source": [
        "<a href=\"https://colab.research.google.com/github/sandhyaparna/GCP-GoogleCloudPlatform/blob/master/Tensorflow.ipynb\" target=\"_parent\"><img src=\"https://colab.research.google.com/assets/colab-badge.svg\" alt=\"Open In Colab\"/></a>"
      ]
    },
    {
      "cell_type": "code",
      "metadata": {
        "id": "oCqRPWk7-kBG"
      },
      "source": [
        "import numpy as np\n",
        "import tensorflow as tf"
      ],
      "execution_count": 2,
      "outputs": []
    },
    {
      "cell_type": "markdown",
      "metadata": {
        "id": "LK7IPjFRyPi4"
      },
      "source": [
        "# TensorFlow and Deep Learning fundamentals with Python videos\n",
        "* https://www.youtube.com/watch?v=tpCFfeUEGs8&t=3221s\n",
        "* https://github.com/mrdbourke/tensorflow-deep-learning\n",
        "* https://colab.research.google.com/github/sandhyaparna/Python-DataScience-CookBook/blob/master/Tensorflow.ipynb\n",
        "\n"
      ]
    },
    {
      "cell_type": "markdown",
      "metadata": {
        "id": "AcJ77NQKyfVX"
      },
      "source": [
        "* tf.constant: shape & dimensions of tensors, mention data type\n",
        "* tf.Varible: assign/modify values\n",
        "* random tensor generator: uniform, normal distribution\n",
        "* tf.ones(shape=(3, 2)); tf.zeros(shape=(3, 2))\n",
        "* shuffle a tensor: shuffling is important for NN as we want the model to not see a continous flow of images of same category, it will impact how the model learns - matrix is shuffled based on rows\n",
        "  * To shuffle in the same order: we need to Set the global random seed using tf.random.set_seed(42), before using it in ft.random.shuffle(matrix, seed=42)\n",
        "* Turn arrays into tensors\n",
        "* Indexing Tensors\n",
        "* tf.cast(X, dtype=tf.float16) : change data type of tensor\n",
        "* tf.abs(X)\n",
        "* tf.reduce_min() - find the minimum value in a tensor.\n",
        "* tf.reduce_max() - find the maximum value in a tensor (helpful for when you want to find the highest prediction probability).\n",
        "* tf.reduce_mean() - find the mean of all elements in a tensor.\n",
        "* tf.reduce_sum() - find the sum of all elements in a tensor.\n",
        "* tf.argmax() - find the position of the maximum element in a given tensor.\n",
        "* tf.argmin() - find the position of the minimum element in a given tensor.\n",
        "\n",
        "\n",
        "* tf.function: use @tf.function before defining a function\n",
        "* compare between different models\n",
        "  * Tensor Board: https://tensorboard.dev/\n",
        "  * Weights & Biases: https://wandb.ai/site\n",
        "* model_name.save(\"path\")\n",
        "* "
      ]
    },
    {
      "cell_type": "markdown",
      "metadata": {
        "id": "NrzUZTENVps1"
      },
      "source": [
        "| **Hyperparameter** | **Typical value** |\n",
        "| --- | --- |\n",
        "| Input layer shape | Same shape as number of features (e.g. 3 for # bedrooms, # bathrooms, # car spaces in housing price prediction) |\n",
        "| Hidden layer(s) | Problem specific, minimum = 1, maximum = unlimited |\n",
        "| Neurons per hidden layer | Problem specific, generally 10 to 100 |\n",
        "| Output layer shape | Same shape as desired prediction shape (e.g. 1 for house price) |\n",
        "| Hidden activation | Usually [ReLU](https://www.kaggle.com/dansbecker/rectified-linear-units-relu-in-deep-learning) (rectified linear unit) |\n",
        "| Output activation | None, ReLU, logistic/tanh |\n",
        "| Loss function | [MSE](https://en.wikipedia.org/wiki/Mean_squared_error) (mean square error) or [MAE](https://en.wikipedia.org/wiki/Mean_absolute_error) (mean absolute error)/Huber (combination of MAE/MSE) if outliers |\n",
        "| Optimizer | [SGD](https://www.tensorflow.org/api_docs/python/tf/keras/optimizers/SGD) (stochastic gradient descent), [Adam](https://www.tensorflow.org/api_docs/python/tf/keras/optimizers/Adam) |\n",
        "\n",
        "| **Hyperparameter** | **Binary Classification** | **Multiclass classification** |\n",
        "| --- | --- | --- |\n",
        "| Input layer shape | Same as number of features (e.g. 5 for age, sex, height, weight, smoking status in heart disease prediction) | Same as binary classification |\n",
        "| Hidden layer(s) | Problem specific, minimum = 1, maximum = unlimited | Same as binary classification |\n",
        "| Neurons per hidden layer | Problem specific, generally 10 to 100 | Same as binary classification |\n",
        "| Output layer shape | 1 (one class or the other) | 1 per class (e.g. 3 for food, person or dog photo) |\n",
        "| Hidden activation | Usually [ReLU](https://www.kaggle.com/dansbecker/rectified-linear-units-relu-in-deep-learning) (rectified linear unit) | Same as binary classification |\n",
        "| Output activation | [Sigmoid](https://en.wikipedia.org/wiki/Sigmoid_function) | [Softmax](https://en.wikipedia.org/wiki/Softmax_function) |\n",
        "| Loss function | [Cross entropy](https://en.wikipedia.org/wiki/Cross_entropy#Cross-entropy_loss_function_and_logistic_regression) ([`tf.keras.losses.BinaryCrossentropy`](https://www.tensorflow.org/api_docs/python/tf/keras/losses/BinaryCrossentropy) in TensorFlow) | Cross entropy ([`tf.keras.losses.CategoricalCrossentropy`](https://www.tensorflow.org/api_docs/python/tf/keras/losses/CategoricalCrossentropy) in TensorFlow) |\n",
        "| Optimizer | [SGD](https://www.tensorflow.org/api_docs/python/tf/keras/optimizers/SGD) (stochastic gradient descent), [Adam](https://www.tensorflow.org/api_docs/python/tf/keras/optimizers/Adam) | Same as binary classification |"
      ]
    },
    {
      "cell_type": "markdown",
      "metadata": {
        "id": "QzUKTociIijV"
      },
      "source": [
        ""
      ]
    },
    {
      "cell_type": "markdown",
      "metadata": {
        "id": "jHJprhQmQItv"
      },
      "source": [
        ""
      ]
    },
    {
      "cell_type": "code",
      "metadata": {
        "id": "haQbJ2VDeBfw",
        "colab": {
          "base_uri": "https://localhost:8080/",
          "height": 196
        },
        "outputId": "8ceb7427-03e7-4c22-f3bc-4a3789bd7300"
      },
      "source": [
        "import plotly.express as px\n",
        "Tips = px.data.tips()\n",
        "Tips.head()"
      ],
      "execution_count": 3,
      "outputs": [
        {
          "output_type": "execute_result",
          "data": {
            "text/html": [
              "<div>\n",
              "<style scoped>\n",
              "    .dataframe tbody tr th:only-of-type {\n",
              "        vertical-align: middle;\n",
              "    }\n",
              "\n",
              "    .dataframe tbody tr th {\n",
              "        vertical-align: top;\n",
              "    }\n",
              "\n",
              "    .dataframe thead th {\n",
              "        text-align: right;\n",
              "    }\n",
              "</style>\n",
              "<table border=\"1\" class=\"dataframe\">\n",
              "  <thead>\n",
              "    <tr style=\"text-align: right;\">\n",
              "      <th></th>\n",
              "      <th>total_bill</th>\n",
              "      <th>tip</th>\n",
              "      <th>sex</th>\n",
              "      <th>smoker</th>\n",
              "      <th>day</th>\n",
              "      <th>time</th>\n",
              "      <th>size</th>\n",
              "    </tr>\n",
              "  </thead>\n",
              "  <tbody>\n",
              "    <tr>\n",
              "      <th>0</th>\n",
              "      <td>16.99</td>\n",
              "      <td>1.01</td>\n",
              "      <td>Female</td>\n",
              "      <td>No</td>\n",
              "      <td>Sun</td>\n",
              "      <td>Dinner</td>\n",
              "      <td>2</td>\n",
              "    </tr>\n",
              "    <tr>\n",
              "      <th>1</th>\n",
              "      <td>10.34</td>\n",
              "      <td>1.66</td>\n",
              "      <td>Male</td>\n",
              "      <td>No</td>\n",
              "      <td>Sun</td>\n",
              "      <td>Dinner</td>\n",
              "      <td>3</td>\n",
              "    </tr>\n",
              "    <tr>\n",
              "      <th>2</th>\n",
              "      <td>21.01</td>\n",
              "      <td>3.50</td>\n",
              "      <td>Male</td>\n",
              "      <td>No</td>\n",
              "      <td>Sun</td>\n",
              "      <td>Dinner</td>\n",
              "      <td>3</td>\n",
              "    </tr>\n",
              "    <tr>\n",
              "      <th>3</th>\n",
              "      <td>23.68</td>\n",
              "      <td>3.31</td>\n",
              "      <td>Male</td>\n",
              "      <td>No</td>\n",
              "      <td>Sun</td>\n",
              "      <td>Dinner</td>\n",
              "      <td>2</td>\n",
              "    </tr>\n",
              "    <tr>\n",
              "      <th>4</th>\n",
              "      <td>24.59</td>\n",
              "      <td>3.61</td>\n",
              "      <td>Female</td>\n",
              "      <td>No</td>\n",
              "      <td>Sun</td>\n",
              "      <td>Dinner</td>\n",
              "      <td>4</td>\n",
              "    </tr>\n",
              "  </tbody>\n",
              "</table>\n",
              "</div>"
            ],
            "text/plain": [
              "   total_bill   tip     sex smoker  day    time  size\n",
              "0       16.99  1.01  Female     No  Sun  Dinner     2\n",
              "1       10.34  1.66    Male     No  Sun  Dinner     3\n",
              "2       21.01  3.50    Male     No  Sun  Dinner     3\n",
              "3       23.68  3.31    Male     No  Sun  Dinner     2\n",
              "4       24.59  3.61  Female     No  Sun  Dinner     4"
            ]
          },
          "metadata": {
            "tags": []
          },
          "execution_count": 3
        }
      ]
    },
    {
      "cell_type": "code",
      "metadata": {
        "colab": {
          "base_uri": "https://localhost:8080/",
          "height": 297
        },
        "id": "KkiHvPGR9T3K",
        "outputId": "dfa04694-a997-426b-ea1c-598a2e994ebc"
      },
      "source": [
        "Tips.describe()"
      ],
      "execution_count": null,
      "outputs": [
        {
          "output_type": "execute_result",
          "data": {
            "text/html": [
              "<div>\n",
              "<style scoped>\n",
              "    .dataframe tbody tr th:only-of-type {\n",
              "        vertical-align: middle;\n",
              "    }\n",
              "\n",
              "    .dataframe tbody tr th {\n",
              "        vertical-align: top;\n",
              "    }\n",
              "\n",
              "    .dataframe thead th {\n",
              "        text-align: right;\n",
              "    }\n",
              "</style>\n",
              "<table border=\"1\" class=\"dataframe\">\n",
              "  <thead>\n",
              "    <tr style=\"text-align: right;\">\n",
              "      <th></th>\n",
              "      <th>total_bill</th>\n",
              "      <th>tip</th>\n",
              "      <th>size</th>\n",
              "    </tr>\n",
              "  </thead>\n",
              "  <tbody>\n",
              "    <tr>\n",
              "      <th>count</th>\n",
              "      <td>244.000000</td>\n",
              "      <td>244.000000</td>\n",
              "      <td>244.000000</td>\n",
              "    </tr>\n",
              "    <tr>\n",
              "      <th>mean</th>\n",
              "      <td>19.785943</td>\n",
              "      <td>2.998279</td>\n",
              "      <td>2.569672</td>\n",
              "    </tr>\n",
              "    <tr>\n",
              "      <th>std</th>\n",
              "      <td>8.902412</td>\n",
              "      <td>1.383638</td>\n",
              "      <td>0.951100</td>\n",
              "    </tr>\n",
              "    <tr>\n",
              "      <th>min</th>\n",
              "      <td>3.070000</td>\n",
              "      <td>1.000000</td>\n",
              "      <td>1.000000</td>\n",
              "    </tr>\n",
              "    <tr>\n",
              "      <th>25%</th>\n",
              "      <td>13.347500</td>\n",
              "      <td>2.000000</td>\n",
              "      <td>2.000000</td>\n",
              "    </tr>\n",
              "    <tr>\n",
              "      <th>50%</th>\n",
              "      <td>17.795000</td>\n",
              "      <td>2.900000</td>\n",
              "      <td>2.000000</td>\n",
              "    </tr>\n",
              "    <tr>\n",
              "      <th>75%</th>\n",
              "      <td>24.127500</td>\n",
              "      <td>3.562500</td>\n",
              "      <td>3.000000</td>\n",
              "    </tr>\n",
              "    <tr>\n",
              "      <th>max</th>\n",
              "      <td>50.810000</td>\n",
              "      <td>10.000000</td>\n",
              "      <td>6.000000</td>\n",
              "    </tr>\n",
              "  </tbody>\n",
              "</table>\n",
              "</div>"
            ],
            "text/plain": [
              "       total_bill         tip        size\n",
              "count  244.000000  244.000000  244.000000\n",
              "mean    19.785943    2.998279    2.569672\n",
              "std      8.902412    1.383638    0.951100\n",
              "min      3.070000    1.000000    1.000000\n",
              "25%     13.347500    2.000000    2.000000\n",
              "50%     17.795000    2.900000    2.000000\n",
              "75%     24.127500    3.562500    3.000000\n",
              "max     50.810000   10.000000    6.000000"
            ]
          },
          "metadata": {
            "tags": []
          },
          "execution_count": 42
        }
      ]
    },
    {
      "cell_type": "code",
      "metadata": {
        "colab": {
          "base_uri": "https://localhost:8080/"
        },
        "id": "BnXYOAODeWOB",
        "outputId": "2e579033-d165-4a2c-bda2-dd5e6cc2ed88"
      },
      "source": [
        "Tips['sex'].value_counts()"
      ],
      "execution_count": null,
      "outputs": [
        {
          "output_type": "execute_result",
          "data": {
            "text/plain": [
              "Male      157\n",
              "Female     87\n",
              "Name: sex, dtype: int64"
            ]
          },
          "metadata": {
            "tags": []
          },
          "execution_count": 3
        }
      ]
    },
    {
      "cell_type": "code",
      "metadata": {
        "colab": {
          "base_uri": "https://localhost:8080/"
        },
        "id": "5goCSfdlenjP",
        "outputId": "94173aa6-e5d1-4267-fc9e-a23505fd99d1"
      },
      "source": [
        "Tips['sex'].value_counts(0)"
      ],
      "execution_count": null,
      "outputs": [
        {
          "output_type": "execute_result",
          "data": {
            "text/plain": [
              "Male      157\n",
              "Female     87\n",
              "Name: sex, dtype: int64"
            ]
          },
          "metadata": {
            "tags": []
          },
          "execution_count": 4
        }
      ]
    },
    {
      "cell_type": "code",
      "metadata": {
        "id": "TpWJe0BOzQ2a"
      },
      "source": [
        "Tips_copy = Tips\n",
        "Tips_shallowcopy = Tips.copy()\n",
        "Tips_deepcopy = Tips.copy(deep=True)"
      ],
      "execution_count": null,
      "outputs": []
    },
    {
      "cell_type": "code",
      "metadata": {
        "id": "K1kzwTbIepfr"
      },
      "source": [
        "Tips['tips_10perc_inc'] = Tips['tip']*1.1"
      ],
      "execution_count": null,
      "outputs": []
    },
    {
      "cell_type": "code",
      "metadata": {
        "id": "PwxcEWiVemgN",
        "colab": {
          "base_uri": "https://localhost:8080/",
          "height": 111
        },
        "outputId": "8802ea04-fcad-46bb-f24f-39eadb613597"
      },
      "source": [
        "Tips.head(2)"
      ],
      "execution_count": null,
      "outputs": [
        {
          "output_type": "execute_result",
          "data": {
            "text/html": [
              "<div>\n",
              "<style scoped>\n",
              "    .dataframe tbody tr th:only-of-type {\n",
              "        vertical-align: middle;\n",
              "    }\n",
              "\n",
              "    .dataframe tbody tr th {\n",
              "        vertical-align: top;\n",
              "    }\n",
              "\n",
              "    .dataframe thead th {\n",
              "        text-align: right;\n",
              "    }\n",
              "</style>\n",
              "<table border=\"1\" class=\"dataframe\">\n",
              "  <thead>\n",
              "    <tr style=\"text-align: right;\">\n",
              "      <th></th>\n",
              "      <th>total_bill</th>\n",
              "      <th>tip</th>\n",
              "      <th>sex</th>\n",
              "      <th>smoker</th>\n",
              "      <th>day</th>\n",
              "      <th>time</th>\n",
              "      <th>size</th>\n",
              "      <th>tips_10perc_inc</th>\n",
              "    </tr>\n",
              "  </thead>\n",
              "  <tbody>\n",
              "    <tr>\n",
              "      <th>0</th>\n",
              "      <td>16.99</td>\n",
              "      <td>1.01</td>\n",
              "      <td>Female</td>\n",
              "      <td>No</td>\n",
              "      <td>Sun</td>\n",
              "      <td>Dinner</td>\n",
              "      <td>2</td>\n",
              "      <td>1.111</td>\n",
              "    </tr>\n",
              "    <tr>\n",
              "      <th>1</th>\n",
              "      <td>10.34</td>\n",
              "      <td>1.66</td>\n",
              "      <td>Male</td>\n",
              "      <td>No</td>\n",
              "      <td>Sun</td>\n",
              "      <td>Dinner</td>\n",
              "      <td>3</td>\n",
              "      <td>1.826</td>\n",
              "    </tr>\n",
              "  </tbody>\n",
              "</table>\n",
              "</div>"
            ],
            "text/plain": [
              "   total_bill   tip     sex smoker  day    time  size  tips_10perc_inc\n",
              "0       16.99  1.01  Female     No  Sun  Dinner     2            1.111\n",
              "1       10.34  1.66    Male     No  Sun  Dinner     3            1.826"
            ]
          },
          "metadata": {
            "tags": []
          },
          "execution_count": 20
        }
      ]
    },
    {
      "cell_type": "code",
      "metadata": {
        "id": "iEKZcSq-eWAY",
        "colab": {
          "base_uri": "https://localhost:8080/",
          "height": 111
        },
        "outputId": "077b5eea-1588-43c9-d5a4-6ba3408c3f42"
      },
      "source": [
        "Tips_copy.head(2)"
      ],
      "execution_count": null,
      "outputs": [
        {
          "output_type": "execute_result",
          "data": {
            "text/html": [
              "<div>\n",
              "<style scoped>\n",
              "    .dataframe tbody tr th:only-of-type {\n",
              "        vertical-align: middle;\n",
              "    }\n",
              "\n",
              "    .dataframe tbody tr th {\n",
              "        vertical-align: top;\n",
              "    }\n",
              "\n",
              "    .dataframe thead th {\n",
              "        text-align: right;\n",
              "    }\n",
              "</style>\n",
              "<table border=\"1\" class=\"dataframe\">\n",
              "  <thead>\n",
              "    <tr style=\"text-align: right;\">\n",
              "      <th></th>\n",
              "      <th>total_bill</th>\n",
              "      <th>tip</th>\n",
              "      <th>sex</th>\n",
              "      <th>smoker</th>\n",
              "      <th>day</th>\n",
              "      <th>time</th>\n",
              "      <th>size</th>\n",
              "      <th>tips_10perc_inc</th>\n",
              "    </tr>\n",
              "  </thead>\n",
              "  <tbody>\n",
              "    <tr>\n",
              "      <th>0</th>\n",
              "      <td>16.99</td>\n",
              "      <td>1.01</td>\n",
              "      <td>Female</td>\n",
              "      <td>No</td>\n",
              "      <td>Sun</td>\n",
              "      <td>Dinner</td>\n",
              "      <td>2</td>\n",
              "      <td>1.111</td>\n",
              "    </tr>\n",
              "    <tr>\n",
              "      <th>1</th>\n",
              "      <td>10.34</td>\n",
              "      <td>1.66</td>\n",
              "      <td>Male</td>\n",
              "      <td>No</td>\n",
              "      <td>Sun</td>\n",
              "      <td>Dinner</td>\n",
              "      <td>3</td>\n",
              "      <td>1.826</td>\n",
              "    </tr>\n",
              "  </tbody>\n",
              "</table>\n",
              "</div>"
            ],
            "text/plain": [
              "   total_bill   tip     sex smoker  day    time  size  tips_10perc_inc\n",
              "0       16.99  1.01  Female     No  Sun  Dinner     2            1.111\n",
              "1       10.34  1.66    Male     No  Sun  Dinner     3            1.826"
            ]
          },
          "metadata": {
            "tags": []
          },
          "execution_count": 21
        }
      ]
    },
    {
      "cell_type": "code",
      "metadata": {
        "id": "c0U2O8a9zke4"
      },
      "source": [
        "Tips_shallowcopy['tips_10perc_inc'] = Tips_shallowcopy['tip']*1.5"
      ],
      "execution_count": null,
      "outputs": []
    },
    {
      "cell_type": "code",
      "metadata": {
        "colab": {
          "base_uri": "https://localhost:8080/",
          "height": 111
        },
        "id": "GE_Qz2q-zklC",
        "outputId": "e6a4a4ed-12e1-4dc3-a107-8d8038cb9a4e"
      },
      "source": [
        "Tips_shallowcopy.head(2)"
      ],
      "execution_count": null,
      "outputs": [
        {
          "output_type": "execute_result",
          "data": {
            "text/html": [
              "<div>\n",
              "<style scoped>\n",
              "    .dataframe tbody tr th:only-of-type {\n",
              "        vertical-align: middle;\n",
              "    }\n",
              "\n",
              "    .dataframe tbody tr th {\n",
              "        vertical-align: top;\n",
              "    }\n",
              "\n",
              "    .dataframe thead th {\n",
              "        text-align: right;\n",
              "    }\n",
              "</style>\n",
              "<table border=\"1\" class=\"dataframe\">\n",
              "  <thead>\n",
              "    <tr style=\"text-align: right;\">\n",
              "      <th></th>\n",
              "      <th>total_bill</th>\n",
              "      <th>tip</th>\n",
              "      <th>sex</th>\n",
              "      <th>smoker</th>\n",
              "      <th>day</th>\n",
              "      <th>time</th>\n",
              "      <th>size</th>\n",
              "      <th>tips_10perc_inc</th>\n",
              "    </tr>\n",
              "  </thead>\n",
              "  <tbody>\n",
              "    <tr>\n",
              "      <th>0</th>\n",
              "      <td>16.99</td>\n",
              "      <td>1.01</td>\n",
              "      <td>Female</td>\n",
              "      <td>No</td>\n",
              "      <td>Sun</td>\n",
              "      <td>Dinner</td>\n",
              "      <td>2</td>\n",
              "      <td>1.515</td>\n",
              "    </tr>\n",
              "    <tr>\n",
              "      <th>1</th>\n",
              "      <td>10.34</td>\n",
              "      <td>1.66</td>\n",
              "      <td>Male</td>\n",
              "      <td>No</td>\n",
              "      <td>Sun</td>\n",
              "      <td>Dinner</td>\n",
              "      <td>3</td>\n",
              "      <td>2.490</td>\n",
              "    </tr>\n",
              "  </tbody>\n",
              "</table>\n",
              "</div>"
            ],
            "text/plain": [
              "   total_bill   tip     sex smoker  day    time  size  tips_10perc_inc\n",
              "0       16.99  1.01  Female     No  Sun  Dinner     2            1.515\n",
              "1       10.34  1.66    Male     No  Sun  Dinner     3            2.490"
            ]
          },
          "metadata": {
            "tags": []
          },
          "execution_count": 22
        }
      ]
    },
    {
      "cell_type": "code",
      "metadata": {
        "colab": {
          "base_uri": "https://localhost:8080/",
          "height": 111
        },
        "id": "AMcUniOmzkiP",
        "outputId": "73b51371-72a0-4195-d537-df0eba0e331b"
      },
      "source": [
        "Tips_deepcopy.head(2)"
      ],
      "execution_count": null,
      "outputs": [
        {
          "output_type": "execute_result",
          "data": {
            "text/html": [
              "<div>\n",
              "<style scoped>\n",
              "    .dataframe tbody tr th:only-of-type {\n",
              "        vertical-align: middle;\n",
              "    }\n",
              "\n",
              "    .dataframe tbody tr th {\n",
              "        vertical-align: top;\n",
              "    }\n",
              "\n",
              "    .dataframe thead th {\n",
              "        text-align: right;\n",
              "    }\n",
              "</style>\n",
              "<table border=\"1\" class=\"dataframe\">\n",
              "  <thead>\n",
              "    <tr style=\"text-align: right;\">\n",
              "      <th></th>\n",
              "      <th>total_bill</th>\n",
              "      <th>tip</th>\n",
              "      <th>sex</th>\n",
              "      <th>smoker</th>\n",
              "      <th>day</th>\n",
              "      <th>time</th>\n",
              "      <th>size</th>\n",
              "    </tr>\n",
              "  </thead>\n",
              "  <tbody>\n",
              "    <tr>\n",
              "      <th>0</th>\n",
              "      <td>16.99</td>\n",
              "      <td>1.01</td>\n",
              "      <td>Female</td>\n",
              "      <td>No</td>\n",
              "      <td>Sun</td>\n",
              "      <td>Dinner</td>\n",
              "      <td>2</td>\n",
              "    </tr>\n",
              "    <tr>\n",
              "      <th>1</th>\n",
              "      <td>10.34</td>\n",
              "      <td>1.66</td>\n",
              "      <td>Male</td>\n",
              "      <td>No</td>\n",
              "      <td>Sun</td>\n",
              "      <td>Dinner</td>\n",
              "      <td>3</td>\n",
              "    </tr>\n",
              "  </tbody>\n",
              "</table>\n",
              "</div>"
            ],
            "text/plain": [
              "   total_bill   tip     sex smoker  day    time  size\n",
              "0       16.99  1.01  Female     No  Sun  Dinner     2\n",
              "1       10.34  1.66    Male     No  Sun  Dinner     3"
            ]
          },
          "metadata": {
            "tags": []
          },
          "execution_count": 24
        }
      ]
    },
    {
      "cell_type": "code",
      "metadata": {
        "colab": {
          "base_uri": "https://localhost:8080/"
        },
        "id": "sXx9-icr0Ib5",
        "outputId": "5b714656-1ce6-480a-a4f5-dda923e1e2da"
      },
      "source": [
        "# To iterate over rows of a data frame\n",
        "# iter corresponds to the rows number of the dataframe\n",
        "# row correspond the values of the row number\n",
        "for iter, row in Tips.head(2).iterrows():\n",
        "  print(iter)\n",
        "  print(row)\n",
        "  print(\"Tip value for the row is:\",row[\"tip\"])  # to extract value of the column for that row"
      ],
      "execution_count": null,
      "outputs": [
        {
          "output_type": "stream",
          "text": [
            "0\n",
            "total_bill          16.99\n",
            "tip                  1.01\n",
            "sex                Female\n",
            "smoker                 No\n",
            "day                   Sun\n",
            "time               Dinner\n",
            "size                    2\n",
            "tips_10perc_inc     1.111\n",
            "Name: 0, dtype: object\n",
            "Tip value for the row is: 1.01\n",
            "1\n",
            "total_bill          10.34\n",
            "tip                  1.66\n",
            "sex                  Male\n",
            "smoker                 No\n",
            "day                   Sun\n",
            "time               Dinner\n",
            "size                    3\n",
            "tips_10perc_inc     1.826\n",
            "Name: 1, dtype: object\n",
            "Tip value for the row is: 1.66\n"
          ],
          "name": "stdout"
        }
      ]
    },
    {
      "cell_type": "code",
      "metadata": {
        "colab": {
          "base_uri": "https://localhost:8080/"
        },
        "id": "tmd04xt7zkXV",
        "outputId": "0bcba920-3e7a-4955-b89b-02c0f3cb47c7"
      },
      "source": [
        "from google.colab import auth\n",
        "auth.authenticate_user()\n",
        "print('Authenticated')"
      ],
      "execution_count": null,
      "outputs": [
        {
          "output_type": "stream",
          "text": [
            "Authenticated\n"
          ],
          "name": "stdout"
        }
      ]
    },
    {
      "cell_type": "code",
      "metadata": {
        "id": "E-QWhfhq6kip"
      },
      "source": [
        "# Extracting data from Big Query - https://colab.research.google.com/notebooks/bigquery.ipynb#scrollTo=DMxOKQ3vJplj\n",
        "%%bigquery --project ml-tensorflow-coursera9 TaxiTrips\n",
        "SELECT * \n",
        "FROM `bigquery-public-data.new_york_taxi_trips.tlc_fhv_trips_2016` # TODO 1\n",
        "LIMIT 10"
      ],
      "execution_count": null,
      "outputs": []
    },
    {
      "cell_type": "code",
      "metadata": {
        "colab": {
          "base_uri": "https://localhost:8080/",
          "height": 204
        },
        "id": "Da4_79NN7CE4",
        "outputId": "e89051d7-f15f-41c7-e929-3d7171fd11d6"
      },
      "source": [
        "TaxiTrips.head()"
      ],
      "execution_count": null,
      "outputs": [
        {
          "output_type": "execute_result",
          "data": {
            "text/html": [
              "<div>\n",
              "<style scoped>\n",
              "    .dataframe tbody tr th:only-of-type {\n",
              "        vertical-align: middle;\n",
              "    }\n",
              "\n",
              "    .dataframe tbody tr th {\n",
              "        vertical-align: top;\n",
              "    }\n",
              "\n",
              "    .dataframe thead th {\n",
              "        text-align: right;\n",
              "    }\n",
              "</style>\n",
              "<table border=\"1\" class=\"dataframe\">\n",
              "  <thead>\n",
              "    <tr style=\"text-align: right;\">\n",
              "      <th></th>\n",
              "      <th>location_id</th>\n",
              "      <th>pickup_datetime</th>\n",
              "      <th>dispatching_base_num</th>\n",
              "      <th>borough</th>\n",
              "      <th>zone</th>\n",
              "      <th>service_zone</th>\n",
              "    </tr>\n",
              "  </thead>\n",
              "  <tbody>\n",
              "    <tr>\n",
              "      <th>0</th>\n",
              "      <td>227</td>\n",
              "      <td>2016-05-12 10:53:00</td>\n",
              "      <td>B01606</td>\n",
              "      <td>Brooklyn</td>\n",
              "      <td>Sunset Park East</td>\n",
              "      <td>Boro Zone</td>\n",
              "    </tr>\n",
              "    <tr>\n",
              "      <th>1</th>\n",
              "      <td>254</td>\n",
              "      <td>2016-05-27 09:24:00</td>\n",
              "      <td>B01233</td>\n",
              "      <td>Bronx</td>\n",
              "      <td>Williamsbridge/Olinville</td>\n",
              "      <td>Boro Zone</td>\n",
              "    </tr>\n",
              "    <tr>\n",
              "      <th>2</th>\n",
              "      <td>213</td>\n",
              "      <td>2016-05-14 13:35:00</td>\n",
              "      <td>B00221</td>\n",
              "      <td>Bronx</td>\n",
              "      <td>Soundview/Castle Hill</td>\n",
              "      <td>Boro Zone</td>\n",
              "    </tr>\n",
              "    <tr>\n",
              "      <th>3</th>\n",
              "      <td>35</td>\n",
              "      <td>2016-12-23 12:47:26</td>\n",
              "      <td>B02884</td>\n",
              "      <td>Brooklyn</td>\n",
              "      <td>Brownsville</td>\n",
              "      <td>Boro Zone</td>\n",
              "    </tr>\n",
              "    <tr>\n",
              "      <th>4</th>\n",
              "      <td>41</td>\n",
              "      <td>2016-09-04 04:46:47</td>\n",
              "      <td>B02872</td>\n",
              "      <td>Manhattan</td>\n",
              "      <td>Central Harlem</td>\n",
              "      <td>Boro Zone</td>\n",
              "    </tr>\n",
              "  </tbody>\n",
              "</table>\n",
              "</div>"
            ],
            "text/plain": [
              "   location_id     pickup_datetime  ...                      zone service_zone\n",
              "0          227 2016-05-12 10:53:00  ...          Sunset Park East    Boro Zone\n",
              "1          254 2016-05-27 09:24:00  ...  Williamsbridge/Olinville    Boro Zone\n",
              "2          213 2016-05-14 13:35:00  ...     Soundview/Castle Hill    Boro Zone\n",
              "3           35 2016-12-23 12:47:26  ...               Brownsville    Boro Zone\n",
              "4           41 2016-09-04 04:46:47  ...            Central Harlem    Boro Zone\n",
              "\n",
              "[5 rows x 6 columns]"
            ]
          },
          "metadata": {
            "tags": []
          },
          "execution_count": 31
        }
      ]
    },
    {
      "cell_type": "code",
      "metadata": {
        "id": "FHjigbFN69oQ"
      },
      "source": [
        "# https://numpy.org/doc/stable/reference/generated/numpy.all.html\n",
        "# pre-processing using np.all\n",
        "# Rows that dont satisfy any of the conditions within np.all are removed\n",
        "\n",
        "def preprocess(df_process):\n",
        "    Tips = df_process.copy(deep=True)  # Making sure that when preprocess if applied on trips data, original copy of trips is created\n",
        "    qc = np.all([\n",
        "        df_process[\"tip\"] >= 1,\n",
        "        df_process[\"tip\"] <= 5,\n",
        "        df_process[\"size\"] >= 2,\n",
        "        df_process[\"size\"] <= 4,\n",
        "        ], axis=0)\n",
        "\n",
        "    return df_process[qc]"
      ],
      "execution_count": null,
      "outputs": []
    },
    {
      "cell_type": "code",
      "metadata": {
        "colab": {
          "base_uri": "https://localhost:8080/"
        },
        "id": "68aQxnJf9yG5",
        "outputId": "fc090c4c-465c-4957-fbf5-5df10e7680be"
      },
      "source": [
        "Tips_qc = preprocess(Tips)\n",
        "print(Tips_qc.describe(),\"\\n\")\n",
        "print(Tips_qc.shape, \"of\", Tips.shape, \" rows remained\")"
      ],
      "execution_count": null,
      "outputs": [
        {
          "output_type": "stream",
          "text": [
            "       total_bill         tip        size\n",
            "count  215.000000  215.000000  215.000000\n",
            "mean    18.597163    2.714930    2.413953\n",
            "std      7.545923    0.951029    0.704320\n",
            "min      5.750000    1.000000    2.000000\n",
            "25%     13.215000    2.000000    2.000000\n",
            "50%     16.990000    2.600000    2.000000\n",
            "75%     21.910000    3.395000    3.000000\n",
            "max     45.350000    5.000000    4.000000 \n",
            "\n",
            "(215, 7) of (244, 7)  rows remained\n"
          ],
          "name": "stdout"
        }
      ]
    },
    {
      "cell_type": "code",
      "metadata": {
        "colab": {
          "base_uri": "https://localhost:8080/"
        },
        "id": "AwMPaDTg_55v",
        "outputId": "a4765754-7027-4737-cd1c-1bdb1f90ba90"
      },
      "source": [
        "# Gives out values from 0 to len(Tips_qc)\n",
        "np.arange(0, len(Tips_qc))"
      ],
      "execution_count": null,
      "outputs": [
        {
          "output_type": "execute_result",
          "data": {
            "text/plain": [
              "array([  0,   1,   2,   3,   4,   5,   6,   7,   8,   9,  10,  11,  12,\n",
              "        13,  14,  15,  16,  17,  18,  19,  20,  21,  22,  23,  24,  25,\n",
              "        26,  27,  28,  29,  30,  31,  32,  33,  34,  35,  36,  37,  38,\n",
              "        39,  40,  41,  42,  43,  44,  45,  46,  47,  48,  49,  50,  51,\n",
              "        52,  53,  54,  55,  56,  57,  58,  59,  60,  61,  62,  63,  64,\n",
              "        65,  66,  67,  68,  69,  70,  71,  72,  73,  74,  75,  76,  77,\n",
              "        78,  79,  80,  81,  82,  83,  84,  85,  86,  87,  88,  89,  90,\n",
              "        91,  92,  93,  94,  95,  96,  97,  98,  99, 100, 101, 102, 103,\n",
              "       104, 105, 106, 107, 108, 109, 110, 111, 112, 113, 114, 115, 116,\n",
              "       117, 118, 119, 120, 121, 122, 123, 124, 125, 126, 127, 128, 129,\n",
              "       130, 131, 132, 133, 134, 135, 136, 137, 138, 139, 140, 141, 142,\n",
              "       143, 144, 145, 146, 147, 148, 149, 150, 151, 152, 153, 154, 155,\n",
              "       156, 157, 158, 159, 160, 161, 162, 163, 164, 165, 166, 167, 168,\n",
              "       169, 170, 171, 172, 173, 174, 175, 176, 177, 178, 179, 180, 181,\n",
              "       182, 183, 184, 185, 186, 187, 188, 189, 190, 191, 192, 193, 194,\n",
              "       195, 196, 197, 198, 199, 200, 201, 202, 203, 204, 205, 206, 207,\n",
              "       208, 209, 210, 211, 212, 213, 214])"
            ]
          },
          "metadata": {
            "tags": []
          },
          "execution_count": 65
        }
      ]
    },
    {
      "cell_type": "code",
      "metadata": {
        "colab": {
          "base_uri": "https://localhost:8080/"
        },
        "id": "i47lISjAB9Cr",
        "outputId": "95600800-2f9f-4096-af91-752c74cfe990"
      },
      "source": [
        "# Diff between append and extend\n",
        "features = list(Tips)\n",
        "features.extend([\"X1\",\"X2\",\"X3\"])\n",
        "print(features)\n",
        "features.append([\"X4\",\"X5\",\"X6\"])\n",
        "print(features)"
      ],
      "execution_count": null,
      "outputs": [
        {
          "output_type": "stream",
          "text": [
            "['total_bill', 'tip', 'sex', 'smoker', 'day', 'time', 'size', 'X1', 'X2', 'X3']\n",
            "['total_bill', 'tip', 'sex', 'smoker', 'day', 'time', 'size', 'X1', 'X2', 'X3', ['X4', 'X5', 'X6']]\n"
          ],
          "name": "stdout"
        }
      ]
    },
    {
      "cell_type": "markdown",
      "metadata": {
        "id": "-0yMjJ0GTDp6"
      },
      "source": [
        "### Tensorflow"
      ]
    },
    {
      "cell_type": "code",
      "metadata": {
        "id": "wGkiUve9QXHK",
        "colab": {
          "base_uri": "https://localhost:8080/"
        },
        "outputId": "6dad35fe-847c-413a-fe72-800605aaf437"
      },
      "source": [
        "@tf.function\n",
        "def f(x):\n",
        "  if tf.reduce_sum(x) > 0:\n",
        "    return x * x\n",
        "  else:\n",
        "    return -x // 2\n",
        "f(tf.constant(-2))"
      ],
      "execution_count": null,
      "outputs": [
        {
          "output_type": "execute_result",
          "data": {
            "text/plain": [
              "<tf.Tensor: shape=(), dtype=int32, numpy=1>"
            ]
          },
          "metadata": {
            "tags": []
          },
          "execution_count": 6
        }
      ]
    },
    {
      "cell_type": "code",
      "metadata": {
        "id": "F8Fs1wicHgOJ",
        "colab": {
          "base_uri": "https://localhost:8080/"
        },
        "outputId": "0f2ecc70-0e87-4c06-aa7c-27432c7244f7"
      },
      "source": [
        "tf.constant(np.random.randint(low=0, high=100, size=50))"
      ],
      "execution_count": null,
      "outputs": [
        {
          "output_type": "execute_result",
          "data": {
            "text/plain": [
              "<tf.Tensor: shape=(50,), dtype=int64, numpy=\n",
              "array([94, 90, 77,  0,  6, 92, 92, 39, 86, 52, 56, 48, 41, 31, 30, 16, 53,\n",
              "       24, 13, 16, 45, 80, 86, 89, 83, 15, 95,  8, 75, 19, 93, 41, 89, 44,\n",
              "       22, 96, 23, 51, 54, 27, 71,  9, 95, 93, 71, 90, 93, 77,  9, 58])>"
            ]
          },
          "metadata": {
            "tags": []
          },
          "execution_count": 3
        }
      ]
    },
    {
      "cell_type": "code",
      "metadata": {
        "id": "ILhxSKYcHlfI",
        "colab": {
          "base_uri": "https://localhost:8080/"
        },
        "outputId": "a74f527b-9c93-4fd3-e386-c865ee372376"
      },
      "source": [
        "F = tf.constant(np.random.random(50))\n",
        "F"
      ],
      "execution_count": null,
      "outputs": [
        {
          "output_type": "execute_result",
          "data": {
            "text/plain": [
              "<tf.Tensor: shape=(50,), dtype=float64, numpy=\n",
              "array([0.14461532, 0.47998683, 0.05242564, 0.00252278, 0.72190747,\n",
              "       0.85516836, 0.78986885, 0.05670708, 0.45445711, 0.22701807,\n",
              "       0.35241043, 0.11043303, 0.85949368, 0.64855534, 0.56846399,\n",
              "       0.6087659 , 0.7441141 , 0.43281527, 0.01802605, 0.03769644,\n",
              "       0.8536098 , 0.14645528, 0.9124743 , 0.84914022, 0.84202672,\n",
              "       0.90937323, 0.42958974, 0.83355397, 0.74647532, 0.19296946,\n",
              "       0.70388297, 0.75868233, 0.12808828, 0.61737789, 0.76893558,\n",
              "       0.87983249, 0.71547245, 0.76292438, 0.4222632 , 0.93577446,\n",
              "       0.21723343, 0.26656408, 0.10292476, 0.69702024, 0.08587017,\n",
              "       0.43696642, 0.29125902, 0.62991896, 0.34842642, 0.94315404])>"
            ]
          },
          "metadata": {
            "tags": []
          },
          "execution_count": 5
        }
      ]
    },
    {
      "cell_type": "code",
      "metadata": {
        "id": "R2_9EHLzHsDb"
      },
      "source": [
        "# Find the maximum element position of F\n",
        "print(f\"The maximum value of F is at position: {tf.argmax(F).numpy()}\") \n",
        "print(f\"The maximum value of F is: {tf.reduce_max(F).numpy()}\") \n",
        "print(f\"Using tf.argmax() to index F, the maximum value of F is: {F[tf.argmax(F)].numpy()}\")\n",
        "print(f\"Are the two max values the same (they should be)? {F[tf.argmax(F)].numpy() == tf.reduce_max(F).numpy()}\")"
      ],
      "execution_count": null,
      "outputs": []
    },
    {
      "cell_type": "code",
      "metadata": {
        "colab": {
          "base_uri": "https://localhost:8080/"
        },
        "id": "hcWmQ3LeHE9s",
        "outputId": "5ee1666b-9d96-4d0a-e83d-6bb4b1739e0c"
      },
      "source": [
        "tf.zeros([3, 2, 4, 5])"
      ],
      "execution_count": null,
      "outputs": [
        {
          "output_type": "execute_result",
          "data": {
            "text/plain": [
              "<tf.Tensor: shape=(3, 2, 4, 5), dtype=float32, numpy=\n",
              "array([[[[0., 0., 0., 0., 0.],\n",
              "         [0., 0., 0., 0., 0.],\n",
              "         [0., 0., 0., 0., 0.],\n",
              "         [0., 0., 0., 0., 0.]],\n",
              "\n",
              "        [[0., 0., 0., 0., 0.],\n",
              "         [0., 0., 0., 0., 0.],\n",
              "         [0., 0., 0., 0., 0.],\n",
              "         [0., 0., 0., 0., 0.]]],\n",
              "\n",
              "\n",
              "       [[[0., 0., 0., 0., 0.],\n",
              "         [0., 0., 0., 0., 0.],\n",
              "         [0., 0., 0., 0., 0.],\n",
              "         [0., 0., 0., 0., 0.]],\n",
              "\n",
              "        [[0., 0., 0., 0., 0.],\n",
              "         [0., 0., 0., 0., 0.],\n",
              "         [0., 0., 0., 0., 0.],\n",
              "         [0., 0., 0., 0., 0.]]],\n",
              "\n",
              "\n",
              "       [[[0., 0., 0., 0., 0.],\n",
              "         [0., 0., 0., 0., 0.],\n",
              "         [0., 0., 0., 0., 0.],\n",
              "         [0., 0., 0., 0., 0.]],\n",
              "\n",
              "        [[0., 0., 0., 0., 0.],\n",
              "         [0., 0., 0., 0., 0.],\n",
              "         [0., 0., 0., 0., 0.],\n",
              "         [0., 0., 0., 0., 0.]]]], dtype=float32)>"
            ]
          },
          "metadata": {
            "tags": []
          },
          "execution_count": 75
        }
      ]
    },
    {
      "cell_type": "code",
      "metadata": {
        "colab": {
          "base_uri": "https://localhost:8080/"
        },
        "id": "Kk3pvlxtQyj_",
        "outputId": "2193ea66-fa35-4e51-dbb1-c6225257bdbe"
      },
      "source": [
        "Ones_matrix = tf.ones([4, 5])\n",
        "Ones_matrix"
      ],
      "execution_count": null,
      "outputs": [
        {
          "output_type": "execute_result",
          "data": {
            "text/plain": [
              "<tf.Tensor: shape=(4, 5), dtype=float32, numpy=\n",
              "array([[1., 1., 1., 1., 1.],\n",
              "       [1., 1., 1., 1., 1.],\n",
              "       [1., 1., 1., 1., 1.],\n",
              "       [1., 1., 1., 1., 1.]], dtype=float32)>"
            ]
          },
          "metadata": {
            "tags": []
          },
          "execution_count": 79
        }
      ]
    },
    {
      "cell_type": "markdown",
      "metadata": {
        "id": "rTGcLtU6THBm"
      },
      "source": [
        "### Tensorflow Indexing"
      ]
    },
    {
      "cell_type": "code",
      "metadata": {
        "colab": {
          "base_uri": "https://localhost:8080/"
        },
        "id": "lEPwvh84QKVc",
        "outputId": "0b88f7c8-f586-4f89-ce9f-96e74c6116ca"
      },
      "source": [
        "print(\"Type of every element:\", Ones_matrix.dtype)\n",
        "print(\"Number of dimensions:\", Ones_matrix.ndim)\n",
        "print(\"Shape of tensor:\", Ones_matrix.shape)\n",
        "print(\"Elements along axis 0 of tensor:\", Ones_matrix.shape[0])\n",
        "print(\"Elements along the last axis of tensor:\", Ones_matrix.shape[-1])\n",
        "print(\"Total number of elements (3*2*4*5): \", tf.size(Ones_matrix).numpy())"
      ],
      "execution_count": null,
      "outputs": [
        {
          "output_type": "stream",
          "text": [
            "Type of every element: <dtype: 'float32'>\n",
            "Number of dimensions: 2\n",
            "Shape of tensor: (4, 5)\n",
            "Elements along axis 0 of tensor: 4\n",
            "Elements along the last axis of tensor: 5\n",
            "Total number of elements (3*2*4*5):  20\n"
          ],
          "name": "stdout"
        }
      ]
    },
    {
      "cell_type": "code",
      "metadata": {
        "colab": {
          "base_uri": "https://localhost:8080/"
        },
        "id": "ei9AeuZS_0xY",
        "outputId": "fa7f48b3-a96d-4771-fc16-89b9189a8e96"
      },
      "source": [
        "rank_1_tensor = tf.constant([0, 1, 1, 2, 3, 5, 8, 13, 21, 34])\n",
        "print(rank_1_tensor.numpy())\n",
        "\n",
        "# When tensors are Indexed with a scalar, it removes the dimension\n",
        "print(\"First:\", rank_1_tensor[0].numpy())\n",
        "print(\"Second:\", rank_1_tensor[1].numpy())\n",
        "print(\"Last:\", rank_1_tensor[-1].numpy())\n",
        "# When tensors are Indexed with a `:` slice keeps the dimension\n",
        "print(\"Everything:\", rank_1_tensor[:].numpy())\n",
        "print(\"Before 4:\", rank_1_tensor[:4].numpy())\n",
        "print(\"From 4 to the end:\", rank_1_tensor[4:].numpy())\n",
        "print(\"From 2, before 7:\", rank_1_tensor[2:7].numpy())\n",
        "print(\"Every other item:\", rank_1_tensor[::2].numpy())\n",
        "print(\"Reversed:\", rank_1_tensor[::-1].numpy())"
      ],
      "execution_count": null,
      "outputs": [
        {
          "output_type": "stream",
          "text": [
            "[ 0  1  1  2  3  5  8 13 21 34]\n",
            "First: 0\n",
            "Second: 1\n",
            "Last: 34\n",
            "Everything: [ 0  1  1  2  3  5  8 13 21 34]\n",
            "Before 4: [0 1 1 2]\n",
            "From 4 to the end: [ 3  5  8 13 21 34]\n",
            "From 2, before 7: [1 2 3 5 8]\n",
            "Every other item: [ 0  1  3  8 21]\n",
            "Reversed: [34 21 13  8  5  3  2  1  1  0]\n"
          ],
          "name": "stdout"
        }
      ]
    },
    {
      "cell_type": "code",
      "metadata": {
        "colab": {
          "base_uri": "https://localhost:8080/"
        },
        "id": "g2I9SkSR_o2H",
        "outputId": "508ba2eb-cc65-49b8-f421-4327d0825eb7"
      },
      "source": [
        "rank_2_tensor = tf.constant([[1, 2],\n",
        "                             [3, 4],\n",
        "                             [5, 6],\n",
        "                             [7, 8]], dtype=tf.int32)\n",
        "print(rank_2_tensor)\n",
        "\n",
        "# Indexed tensors using any combination integers and slices `:`\n",
        "# Get row and column tensors\n",
        "print(\"Second row:\", rank_2_tensor[1, :].numpy(),\"\\n\")\n",
        "print(\"Second column:\", rank_2_tensor[:, 1].numpy(),\"\\n\")\n",
        "print(\"Last row:\", rank_2_tensor[-1, :].numpy(),\"\\n\")\n",
        "print(\"First item in last column:\", rank_2_tensor[0, -1].numpy(),\"\\n\")\n",
        "print(\"Skip the first row:\")\n",
        "print(rank_2_tensor[1:, :].numpy(), \"\\n\")"
      ],
      "execution_count": null,
      "outputs": [
        {
          "output_type": "stream",
          "text": [
            "tf.Tensor(\n",
            "[[1 2]\n",
            " [3 4]\n",
            " [5 6]\n",
            " [7 8]], shape=(4, 2), dtype=int32)\n",
            "Second row: [3 4] \n",
            "\n",
            "Second column: [2 4 6 8] \n",
            "\n",
            "Last row: [7 8] \n",
            "\n",
            "First item in last column: 2 \n",
            "\n",
            "Skip the first row:\n",
            "[[3 4]\n",
            " [5 6]\n",
            " [7 8]] \n",
            "\n"
          ],
          "name": "stdout"
        }
      ]
    },
    {
      "cell_type": "markdown",
      "metadata": {
        "id": "cCEsEyoOTLff"
      },
      "source": [
        "### Reshape & Transpose"
      ]
    },
    {
      "cell_type": "code",
      "metadata": {
        "colab": {
          "base_uri": "https://localhost:8080/"
        },
        "id": "VvVUoqbs_n1x",
        "outputId": "f4a83b2e-7d2b-4e6e-846b-d850ee980806"
      },
      "source": [
        "print(rank_2_tensor,\"\\n\")\n",
        "print(tf.reshape(rank_2_tensor, [8]),\"\\n\")  # 6,1\n",
        "print(tf.reshape(rank_2_tensor, [2,4]),\"\\n\")\n",
        "print(tf.reshape(rank_2_tensor, [2,2,2]),\"\\n\")"
      ],
      "execution_count": null,
      "outputs": [
        {
          "output_type": "stream",
          "text": [
            "tf.Tensor(\n",
            "[[1 2]\n",
            " [3 4]\n",
            " [5 6]\n",
            " [7 8]], shape=(4, 2), dtype=int32) \n",
            "\n",
            "tf.Tensor([1 2 3 4 5 6 7 8], shape=(8,), dtype=int32) \n",
            "\n",
            "tf.Tensor(\n",
            "[[1 2 3 4]\n",
            " [5 6 7 8]], shape=(2, 4), dtype=int32) \n",
            "\n",
            "tf.Tensor(\n",
            "[[[1 2]\n",
            "  [3 4]]\n",
            "\n",
            " [[5 6]\n",
            "  [7 8]]], shape=(2, 2, 2), dtype=int32) \n",
            "\n"
          ],
          "name": "stdout"
        }
      ]
    },
    {
      "cell_type": "code",
      "metadata": {
        "colab": {
          "base_uri": "https://localhost:8080/"
        },
        "id": "r436uR_DULLw",
        "outputId": "a069c119-f6e7-4bec-c819-6138c7330245"
      },
      "source": [
        "print(rank_2_tensor,\"\\n\")\n",
        "print(tf.reshape(rank_2_tensor, [8]),\"\\n\")  # 8,1 ==> 8 rows, 1 column\n",
        "print(tf.reshape(rank_2_tensor, [2,4]),\"\\n\")\n",
        "print(tf.reshape(rank_2_tensor, [2,2,2]),\"\\n\")\n",
        "print(tf.reshape(rank_2_tensor, [-1]),\"\\n\")"
      ],
      "execution_count": null,
      "outputs": [
        {
          "output_type": "stream",
          "text": [
            "tf.Tensor(\n",
            "[[1 2]\n",
            " [3 4]\n",
            " [5 6]\n",
            " [7 8]], shape=(4, 2), dtype=int32) \n",
            "\n",
            "tf.Tensor([1 2 3 4 5 6 7 8], shape=(8,), dtype=int32) \n",
            "\n",
            "tf.Tensor(\n",
            "[[1 2 3 4]\n",
            " [5 6 7 8]], shape=(2, 4), dtype=int32) \n",
            "\n",
            "tf.Tensor(\n",
            "[[[1 2]\n",
            "  [3 4]]\n",
            "\n",
            " [[5 6]\n",
            "  [7 8]]], shape=(2, 2, 2), dtype=int32) \n",
            "\n",
            "tf.Tensor([1 2 3 4 5 6 7 8], shape=(8,), dtype=int32) \n",
            "\n"
          ],
          "name": "stdout"
        }
      ]
    },
    {
      "cell_type": "code",
      "metadata": {
        "colab": {
          "base_uri": "https://localhost:8080/"
        },
        "id": "4tOUcL9JVUls",
        "outputId": "5fa7b6a6-1977-4602-91e8-0ab17a18e84f"
      },
      "source": [
        "print(rank_2_tensor,\"\\n\")\n",
        "print(\"Transposes\",\"\\n\") # Transpose coverts row into column, column into row\n",
        "print(tf.transpose(rank_2_tensor),\"\\n\")\n",
        "print(tf.transpose(tf.reshape(rank_2_tensor, [8])),\"\\n\")  # Not transposing as a column\n",
        "print(tf.transpose(tf.reshape(rank_2_tensor, [2,4])),\"\\n\")\n",
        "print(tf.transpose(tf.reshape(rank_2_tensor, [2,2,2])),\"\\n\")\n",
        "print(tf.transpose(tf.reshape(rank_2_tensor, [-1])),\"\\n\")"
      ],
      "execution_count": null,
      "outputs": [
        {
          "output_type": "stream",
          "text": [
            "tf.Tensor(\n",
            "[[1 2]\n",
            " [3 4]\n",
            " [5 6]\n",
            " [7 8]], shape=(4, 2), dtype=int32) \n",
            "\n",
            "Transposes \n",
            "\n",
            "tf.Tensor(\n",
            "[[1 3 5 7]\n",
            " [2 4 6 8]], shape=(2, 4), dtype=int32) \n",
            "\n",
            "tf.Tensor([1 2 3 4 5 6 7 8], shape=(8,), dtype=int32) \n",
            "\n",
            "tf.Tensor([[1 2 3 4 5 6 7 8]], shape=(1, 8), dtype=int32) \n",
            "\n",
            "tf.Tensor(\n",
            "[[1 5]\n",
            " [2 6]\n",
            " [3 7]\n",
            " [4 8]], shape=(4, 2), dtype=int32) \n",
            "\n",
            "tf.Tensor(\n",
            "[[[1 5]\n",
            "  [3 7]]\n",
            "\n",
            " [[2 6]\n",
            "  [4 8]]], shape=(2, 2, 2), dtype=int32) \n",
            "\n",
            "tf.Tensor([1 2 3 4 5 6 7 8], shape=(8,), dtype=int32) \n",
            "\n"
          ],
          "name": "stdout"
        }
      ]
    },
    {
      "cell_type": "code",
      "metadata": {
        "colab": {
          "base_uri": "https://localhost:8080/"
        },
        "id": "kw8KYa8H_mBi",
        "outputId": "9f54a3a2-3456-47bf-c15e-26c37fec5e80"
      },
      "source": [
        "rank_3_tensor = tf.constant([\n",
        "  [[0, 1, 2, 3, 4],\n",
        "   [5, 6, 7, 8, 9]],\n",
        "  [[10, 11, 12, 13, 14],\n",
        "   [15, 16, 17, 18, 19]],\n",
        "  [[20, 21, 22, 23, 24],\n",
        "   [25, 26, 27, 28, 29]],])\n",
        "                    \n",
        "print(rank_3_tensor, \"\\n\")\n",
        "print(tf.reshape(rank_3_tensor, [-1]), \"\\n\")\n",
        "print(tf.reshape(rank_3_tensor, [3*2, 5]), \"\\n\")\n",
        "print(tf.reshape(rank_3_tensor, [3, -1]), \"\\n\")  # shape=(3, 10) ==> -1 is automatic"
      ],
      "execution_count": null,
      "outputs": [
        {
          "output_type": "stream",
          "text": [
            "tf.Tensor(\n",
            "[[[ 0  1  2  3  4]\n",
            "  [ 5  6  7  8  9]]\n",
            "\n",
            " [[10 11 12 13 14]\n",
            "  [15 16 17 18 19]]\n",
            "\n",
            " [[20 21 22 23 24]\n",
            "  [25 26 27 28 29]]], shape=(3, 2, 5), dtype=int32) \n",
            "\n",
            "tf.Tensor(\n",
            "[ 0  1  2  3  4  5  6  7  8  9 10 11 12 13 14 15 16 17 18 19 20 21 22 23\n",
            " 24 25 26 27 28 29], shape=(30,), dtype=int32) \n",
            "\n",
            "tf.Tensor(\n",
            "[[ 0  1  2  3  4]\n",
            " [ 5  6  7  8  9]\n",
            " [10 11 12 13 14]\n",
            " [15 16 17 18 19]\n",
            " [20 21 22 23 24]\n",
            " [25 26 27 28 29]], shape=(6, 5), dtype=int32) \n",
            "\n",
            "tf.Tensor(\n",
            "[[ 0  1  2  3  4  5  6  7  8  9]\n",
            " [10 11 12 13 14 15 16 17 18 19]\n",
            " [20 21 22 23 24 25 26 27 28 29]], shape=(3, 10), dtype=int32) \n",
            "\n"
          ],
          "name": "stdout"
        }
      ]
    },
    {
      "cell_type": "code",
      "metadata": {
        "colab": {
          "base_uri": "https://localhost:8080/"
        },
        "id": "-Dk1Ew_q_fGQ",
        "outputId": "d3b30a77-337e-42c8-92a1-6dd2c6cedb8e"
      },
      "source": [
        "# `tf.cast` casts a tensor to a new data type.\n",
        "# TODO 2b\n",
        "the_f64_tensor = tf.constant([2.2, 3.3, 4.4], dtype=tf.float64)\n",
        "the_f16_tensor = tf.cast(the_f64_tensor, dtype=tf.float16)\n",
        "# Now, let's cast to an uint8 and lose the decimal precision\n",
        "the_u8_tensor = tf.cast(the_f16_tensor, dtype=tf.uint8)\n",
        "print(the_u8_tensor)"
      ],
      "execution_count": null,
      "outputs": [
        {
          "output_type": "stream",
          "text": [
            "tf.Tensor([2 3 4], shape=(3,), dtype=uint8)\n"
          ],
          "name": "stdout"
        }
      ]
    },
    {
      "cell_type": "code",
      "metadata": {
        "colab": {
          "base_uri": "https://localhost:8080/"
        },
        "id": "dQZjzmsw_feg",
        "outputId": "2500f031-b8a2-4fb5-a876-d04edc9fc81c"
      },
      "source": [
        "# [1,3] shaped tensor is converted to [3,3] shape\n",
        "print(tf.broadcast_to(tf.constant([1, 2, 3]), [3, 3]))"
      ],
      "execution_count": null,
      "outputs": [
        {
          "output_type": "stream",
          "text": [
            "tf.Tensor(\n",
            "[[1 2 3]\n",
            " [1 2 3]\n",
            " [1 2 3]], shape=(3, 3), dtype=int32)\n"
          ],
          "name": "stdout"
        }
      ]
    },
    {
      "cell_type": "code",
      "metadata": {
        "colab": {
          "base_uri": "https://localhost:8080/"
        },
        "id": "rNukT05rhtl7",
        "outputId": "1b7ec340-c089-4400-d13b-818589641990"
      },
      "source": [
        "# We can use split to split a string into a set of tensors\n",
        "scalar_string_tensor = tf.constant(\"Gray wolf\")\n",
        "print(scalar_string_tensor)\n",
        "print(tf.strings.split(scalar_string_tensor, sep=\" \"))"
      ],
      "execution_count": null,
      "outputs": [
        {
          "output_type": "stream",
          "text": [
            "tf.Tensor(b'Gray wolf', shape=(), dtype=string)\n",
            "tf.Tensor([b'Gray' b'wolf'], shape=(2,), dtype=string)\n"
          ],
          "name": "stdout"
        }
      ]
    },
    {
      "cell_type": "code",
      "metadata": {
        "colab": {
          "base_uri": "https://localhost:8080/"
        },
        "id": "WMIWpHVHhtiv",
        "outputId": "8a95d769-7005-49e0-882a-1be927bfd27c"
      },
      "source": [
        "# If we have two string tensors of different lengths, this is OK.\n",
        "tensor_of_strings = tf.constant([\"Gray wolf\",\n",
        "                                 \"Quick brown fox\",\n",
        "                                 \"Lazy dog\"])\n",
        "# Note that the shape is (2,), indicating that it is 2 x unknown.\n",
        "print(tensor_of_strings)\n",
        "print(tf.strings.split(tensor_of_strings))"
      ],
      "execution_count": null,
      "outputs": [
        {
          "output_type": "stream",
          "text": [
            "tf.Tensor([b'Gray wolf' b'Quick brown fox' b'Lazy dog'], shape=(3,), dtype=string)\n",
            "<tf.RaggedTensor [[b'Gray', b'wolf'], [b'Quick', b'brown', b'fox'], [b'Lazy', b'dog']]>\n"
          ],
          "name": "stdout"
        }
      ]
    },
    {
      "cell_type": "code",
      "metadata": {
        "colab": {
          "base_uri": "https://localhost:8080/"
        },
        "id": "MgMaYrbYhtfi",
        "outputId": "82fec14e-ef3d-4a5c-eeae-998f241a2967"
      },
      "source": [
        "x = tf.Variable(5.6)\n",
        "\n",
        "# The .assign() method will assign the value to referance object.\n",
        "x.assign(45.8)\n",
        "print(x)\n",
        "\n",
        "# The .assign_add() method will update the referance object by adding value to it.\n",
        "x.assign_add(4)\n",
        "print(x)\n",
        "\n",
        "# The .assign_add() method will update the referance object by subtracting value to it.\n",
        "x.assign_sub(3) \n",
        "print(x)"
      ],
      "execution_count": null,
      "outputs": [
        {
          "output_type": "stream",
          "text": [
            "<tf.Variable 'Variable:0' shape=() dtype=float32, numpy=45.8>\n",
            "<tf.Variable 'Variable:0' shape=() dtype=float32, numpy=49.8>\n",
            "<tf.Variable 'Variable:0' shape=() dtype=float32, numpy=46.8>\n"
          ],
          "name": "stdout"
        }
      ]
    },
    {
      "cell_type": "code",
      "metadata": {
        "colab": {
          "base_uri": "https://localhost:8080/"
        },
        "id": "Ld1_AXCehtah",
        "outputId": "155d18a0-3f72-4383-dca5-2fc13f19b9e3"
      },
      "source": [
        "# Creates a constant tensor from a tensor-like object.\n",
        "a = tf.constant([5, 3, 8]) # TODO 1a\n",
        "b = tf.constant([3, -1, 2])\n",
        "# Using the .add() method components of a tensor will be added.\n",
        "print(tf.add(a, b))\n",
        "\n",
        "# Using the .multiply() method components of a tensor will be multiplied.\n",
        "print(tf.multiply(a, b))\n",
        "\n",
        "# tf.math.exp expects floats so we need to explicitly give the type\n",
        "# tf.math.exp(a)"
      ],
      "execution_count": null,
      "outputs": [
        {
          "output_type": "stream",
          "text": [
            "tf.Tensor([ 8  2 10], shape=(3,), dtype=int32)\n",
            "tf.Tensor([15 -3 16], shape=(3,), dtype=int32)\n"
          ],
          "name": "stdout"
        }
      ]
    },
    {
      "cell_type": "markdown",
      "metadata": {
        "id": "-lT4JHLht-Mq"
      },
      "source": [
        "### Load Data with tf.data\n",
        "https://colab.research.google.com/github/adammichaelwood/tf-docs/blob/csv-feature-columns/site/en/r2/tutorials/load_data/csv.ipynb#scrollTo=tSyrkSQwYHKi"
      ]
    },
    {
      "cell_type": "code",
      "metadata": {
        "colab": {
          "base_uri": "https://localhost:8080/"
        },
        "id": "T9c3fOQCnFi8",
        "outputId": "afdc7f03-f2dc-4ea1-a49a-c9047d53c6b6"
      },
      "source": [
        "# get_dataset() retrieve a Dataverse dataset or its metadata\n",
        "def get_dataset(file_path, **kwargs):\n",
        " # TODO 2 \n",
        " # Use `tf.data.experimental.make_csv_dataset()` to read CSV files into a dataset.\n",
        "  dataset = tf.data.experimental.make_csv_dataset(\n",
        "      file_path,\n",
        "      batch_size=5, # Artificially small to make examples easier to show.\n",
        "      label_name=LABEL_COLUMN,\n",
        "      na_value=\"?\",\n",
        "      num_epochs=1,\n",
        "      ignore_errors=True, \n",
        "      **kwargs)\n",
        "  return dataset\n",
        "\n",
        "raw_train_data = get_dataset(train_file_path)\n",
        "raw_test_data = get_dataset(test_file_path)"
      ],
      "execution_count": null,
      "outputs": [
        {
          "output_type": "execute_result",
          "data": {
            "text/plain": [
              "<tf.Tensor: shape=(3,), dtype=int32, numpy=array([15, -3, 16], dtype=int32)>"
            ]
          },
          "metadata": {
            "tags": []
          },
          "execution_count": 117
        }
      ]
    },
    {
      "cell_type": "markdown",
      "metadata": {
        "id": "8mv99e2Uv1v-"
      },
      "source": [
        "### tf.feature_column \n",
        "https://www.tensorflow.org/api_docs/python/tf/feature_column\n",
        "\n",
        "https://github.com/GoogleCloudPlatform/training-data-analyst/blob/master/courses/machine_learning/deepdive2/introduction_to_tensorflow/solutions/feat.cols_tf.data.ipynb\n"
      ]
    },
    {
      "cell_type": "code",
      "metadata": {
        "id": "27RxborBv0Df"
      },
      "source": [
        "# Normalize numeric data\n",
        "tf.feature_column.numeric_column('numeric', normalizer_fn=normalizer, shape=[len(NUMERIC_FEATURES)])\n",
        "\n",
        "# `tf.keras.layers.DenseFeatures()` produces a dense Tensor based on given feature_columns.\n",
        "tf.keras.layers.DenseFeatures(numeric_columns)\n",
        "\n",
        "# `tf.keras.layers.DenseFeatures()` produces a dense Tensor based on given feature_columns.\n",
        "numeric_layer = tf.keras.layers.DenseFeatures(numeric_columns)\n",
        "numeric_layer(example_batch).numpy()"
      ],
      "execution_count": null,
      "outputs": []
    },
    {
      "cell_type": "code",
      "metadata": {
        "id": "669ldmioxkHm"
      },
      "source": [
        "# processing categorical columns - https://github.com/GoogleCloudPlatform/training-data-analyst/blob/master/courses/machine_learning/deepdive2/introduction_to_tensorflow/solutions/load_diff_filedata.ipynb\n",
        "# `tf.keras.layers.DenseFeatures()` produces a dense Tensor based on given feature_columns.\n",
        "categorical_layer = tf.keras.layers.DenseFeatures(categorical_columns)\n",
        "\n",
        "# Add the two feature column collections\n",
        "# Pass them to a `tf.keras.layers.DenseFeatures()` to create an input layer.\n",
        "# TODO 1\n",
        "preprocessing_layer = tf.keras.layers.DenseFeatures(categorical_columns+numeric_columns)"
      ],
      "execution_count": null,
      "outputs": []
    },
    {
      "cell_type": "code",
      "metadata": {
        "id": "HmveCb5yxqfw"
      },
      "source": [
        "# Similar to one-hot encoding for that ranges of values\n",
        "age_buckets = tf.feature_column.bucketized_column(age, boundaries=[18, 25, 30, 35, 40, 45, 50, 55, 60, 65])\n",
        "\n",
        "tf.feature_column.categorical_column_with_vocabulary_list('Var', ['Cat1', 'Cat2', 'Cat3'])\n",
        "\n",
        "tf.feature_column.embedding_column(Var, dimension=8)"
      ],
      "execution_count": null,
      "outputs": []
    },
    {
      "cell_type": "markdown",
      "metadata": {
        "id": "4A7FoC1zGVP6"
      },
      "source": [
        "### Read and write data using TFRecords \n",
        "* tf.train.Example \n",
        "* tf.train.SequenceExample\n",
        "\n",
        "https://github.com/GoogleCloudPlatform/training-data-analyst/blob/master/courses/machine_learning/deepdive2/introduction_to_tensorflow/solutions/tfrecord-tf.example.ipynb"
      ]
    },
    {
      "cell_type": "markdown",
      "metadata": {
        "id": "0RE4LEQXm9qF"
      },
      "source": [
        "### TensorFlow Dataset API\n",
        "* tf.data to read the CSV files\n",
        "*  tf.data.experimental.make_batched_features_dataset to read TFRecords\n",
        "\n",
        "https://github.com/GoogleCloudPlatform/training-data-analyst/blob/master/courses/machine_learning/deepdive2/introduction_to_tensorflow/solutions/2_dataset_api.ipynb"
      ]
    },
    {
      "cell_type": "code",
      "metadata": {
        "id": "FiyEsf-wt-HS"
      },
      "source": [
        "# Varibles for the function in the next cell\n",
        "# Defining the feature names into a list `CSV_COLUMNS`\n",
        "CSV_COLUMNS = [\n",
        "    'fare_amount',\n",
        "    'pickup_datetime',\n",
        "    'pickup_longitude',\n",
        "    'pickup_latitude',\n",
        "    'dropoff_longitude',\n",
        "    'dropoff_latitude',\n",
        "    'passenger_count',\n",
        "    'key'\n",
        "]\n",
        "LABEL_COLUMN = 'fare_amount'\n",
        "# Defining the default values into a list `DEFAULTS`\n",
        "DEFAULTS = [[0.0], ['na'], [0.0], [0.0], [0.0], [0.0], [0.0], ['na']]\n",
        "\n",
        "UNWANTED_COLS = ['pickup_datetime', 'key']\n",
        "# Let's define the features_and_labels() method\n",
        "# TODO 4a\n",
        "def features_and_labels(row_data):\n",
        "# The .pop() method will return item and drop from frame. \n",
        "    label = row_data.pop(LABEL_COLUMN)\n",
        "    features = row_data\n",
        "    \n",
        "    for unwanted_col in UNWANTED_COLS:\n",
        "        features.pop(unwanted_col)\n",
        "\n",
        "    return features, label"
      ],
      "execution_count": null,
      "outputs": []
    },
    {
      "cell_type": "code",
      "metadata": {
        "id": "wazk_3GRGwji"
      },
      "source": [
        "def create_dataset(path_of_data, batch_size, mode):\n",
        "# The tf.data.experimental.make_csv_dataset() method reads CSV files into a dataset\n",
        "    dataset = tf.data.experimental.make_csv_dataset(\n",
        "        pattern, batch_size, CSV_COLUMNS, DEFAULTS)\n",
        "\n",
        "# The map() function executes a specified function for each item in an iterable.\n",
        "# The item is sent to the function as a parameter.\n",
        "    dataset = dataset.map(features_and_labels).cache()\n",
        "\n",
        "    if mode == \"train\":\n",
        "        dataset = dataset.shuffle(1000).repeat()\n",
        "\n",
        "    # take advantage of multi-threading; 1=AUTOTUNE\n",
        "    dataset = dataset.prefetch(1)  # before returning we will want to prefetch 1 data point ahead of time (dataset.prefetch(1)) to speed-up training:\n",
        "    return dataset"
      ],
      "execution_count": 8,
      "outputs": []
    },
    {
      "cell_type": "code",
      "metadata": {
        "id": "KfuDN9XRniz5"
      },
      "source": [
        "# Path of various locations\n",
        "#  ../data/taxi-test.csv\n",
        "#  ../data/taxi-train.csv\n",
        "#  ../data/taxi-valid.csv\n",
        "\n",
        "create_dataset('../data/taxi-train*',2,mode=\"train\")\n",
        "create_dataset('../data/taxi-valid*',2,mode=\"eval\")\n",
        "create_dataset('../data/taxi-test*',2,mode=\"test\")"
      ],
      "execution_count": null,
      "outputs": []
    },
    {
      "cell_type": "markdown",
      "metadata": {
        "id": "e-LqT4DM8m1y"
      },
      "source": [
        "### Feature Analysis Using TensorFlow Data Validation and Facets"
      ]
    },
    {
      "cell_type": "code",
      "metadata": {
        "id": "F8cw9QerndM4"
      },
      "source": [
        "# Fairness Indicators is designed to support in evaluating, improving, and comparing models for fairness concerns.\n",
        "!pip3 install fairness-indicators==0.1.2 --user"
      ],
      "execution_count": null,
      "outputs": []
    },
    {
      "cell_type": "code",
      "metadata": {
        "id": "1uQmjck0GxGw",
        "outputId": "094d9185-297f-4768-ea73-e90d795b20f4",
        "colab": {
          "base_uri": "https://localhost:8080/"
        }
      },
      "source": [
        "# The import statement combines two operations; it searches for the named module, then it binds the results of that search\n",
        "# to a name in the local scope.\n",
        "# %tensorflow_version 2.x\n",
        "import sys, os\n",
        "import warnings\n",
        "warnings.filterwarnings('ignore')\n",
        "#os.environ['TF_CPP_MIN_LOG_LEVEL'] = '3'  # Ignore deprecation warnings\n",
        "import tempfile\n",
        "import apache_beam as beam\n",
        "import numpy as np\n",
        "import pandas as pd\n",
        "from datetime import datetime\n",
        "\n",
        "import tensorflow_hub as hub\n",
        "import tensorflow as tf\n",
        "import tensorflow_model_analysis as tfma\n",
        "import tensorflow_data_validation as tfdv\n",
        "from tensorflow_model_analysis.addons.fairness.post_export_metrics import fairness_indicators\n",
        "from tensorflow_model_analysis.addons.fairness.view import widget_view\n",
        "from fairness_indicators.examples import util\n",
        "\n",
        "import warnings\n",
        "warnings.filterwarnings(\"ignore\")\n",
        "\n",
        "from witwidget.notebook.visualization import WitConfigBuilder\n",
        "from witwidget.notebook.visualization import WitWidget\n",
        "\n",
        "\n",
        "print(tf.version.VERSION) \n",
        "print(tf) # This statement shows us what version of Python we are currently running."
      ],
      "execution_count": 1,
      "outputs": [
        {
          "output_type": "stream",
          "text": [
            "2.4.1\n",
            "<module 'tensorflow' from '/usr/local/lib/python3.7/dist-packages/tensorflow/__init__.py'>\n"
          ],
          "name": "stdout"
        }
      ]
    },
    {
      "cell_type": "code",
      "metadata": {
        "id": "EhpHkdB1GxDe",
        "outputId": "92297837-1c60-4655-aa26-477855ed3c88",
        "colab": {
          "base_uri": "https://localhost:8080/"
        }
      },
      "source": [
        "download_original_data = False #@param {type:\"boolean\"}\n",
        "\n",
        "\n",
        "# TODO 1\n",
        "\n",
        "# Downloads a file from a URL if it is not already in the cache using the `tf.keras.utils.get_file()` function.\n",
        "if download_original_data:\n",
        "  train_tf_file = tf.keras.utils.get_file('train_tf.tfrecord',\n",
        "                                          'https://storage.googleapis.com/civil_comments_dataset/train_tf.tfrecord')\n",
        "  validate_tf_file = tf.keras.utils.get_file('validate_tf.tfrecord',\n",
        "                                             'https://storage.googleapis.com/civil_comments_dataset/validate_tf.tfrecord')\n",
        "\n",
        "  # The identity terms list will be grouped together by their categories\n",
        "  # (see 'IDENTITY_COLUMNS') on threshould 0.5. Only the identity term column,\n",
        "  # text column and label column will be kept after processing.\n",
        "  train_tf_file = util.convert_comments_data(train_tf_file)\n",
        "  validate_tf_file = util.convert_comments_data(validate_tf_file)\n",
        "\n",
        "# TODO 1a\n",
        "\n",
        "else:\n",
        "  train_tf_file = tf.keras.utils.get_file('train_tf_processed.tfrecord',\n",
        "                                          'https://storage.googleapis.com/civil_comments_dataset/train_tf_processed.tfrecord')\n",
        "  validate_tf_file = tf.keras.utils.get_file('validate_tf_processed.tfrecord',\n",
        "                                             'https://storage.googleapis.com/civil_comments_dataset/validate_tf_processed.tfrecord')"
      ],
      "execution_count": 2,
      "outputs": [
        {
          "output_type": "stream",
          "text": [
            "Downloading data from https://storage.googleapis.com/civil_comments_dataset/train_tf_processed.tfrecord\n",
            "488161280/488153424 [==============================] - 5s 0us/step\n",
            "Downloading data from https://storage.googleapis.com/civil_comments_dataset/validate_tf_processed.tfrecord\n",
            "324943872/324941336 [==============================] - 3s 0us/step\n"
          ],
          "name": "stdout"
        }
      ]
    },
    {
      "cell_type": "code",
      "metadata": {
        "id": "BZtFpBX59Bky",
        "outputId": "6895cdcd-4ae7-41d5-dfba-6a6e02d8fdce",
        "colab": {
          "base_uri": "https://localhost:8080/",
          "height": 1000
        }
      },
      "source": [
        "# The computation of statistics using TFDV.  The returned value is a DatasetFeatureStatisticsList protocol buffer. \n",
        "stats = tfdv.generate_statistics_from_tfrecord(data_location=train_tf_file)\n",
        "\n",
        "# A visualization of the statistics using Facets Overview.\n",
        "tfdv.visualize_statistics(stats)"
      ],
      "execution_count": 4,
      "outputs": [
        {
          "output_type": "stream",
          "text": [
            "WARNING:apache_beam.runners.interactive.interactive_environment:Dependencies required for Interactive Beam PCollection visualization are not available, please use: `pip install apache-beam[interactive]` to install necessary dependencies to enable all data visualization features.\n"
          ],
          "name": "stderr"
        },
        {
          "output_type": "display_data",
          "data": {
            "application/javascript": [
              "\n",
              "        if (typeof window.interactive_beam_jquery == 'undefined') {\n",
              "          var jqueryScript = document.createElement('script');\n",
              "          jqueryScript.src = 'https://code.jquery.com/jquery-3.4.1.slim.min.js';\n",
              "          jqueryScript.type = 'text/javascript';\n",
              "          jqueryScript.onload = function() {\n",
              "            var datatableScript = document.createElement('script');\n",
              "            datatableScript.src = 'https://cdn.datatables.net/1.10.20/js/jquery.dataTables.min.js';\n",
              "            datatableScript.type = 'text/javascript';\n",
              "            datatableScript.onload = function() {\n",
              "              window.interactive_beam_jquery = jQuery.noConflict(true);\n",
              "              window.interactive_beam_jquery(document).ready(function($){\n",
              "                \n",
              "              });\n",
              "            }\n",
              "            document.head.appendChild(datatableScript);\n",
              "          };\n",
              "          document.head.appendChild(jqueryScript);\n",
              "        } else {\n",
              "          window.interactive_beam_jquery(document).ready(function($){\n",
              "            \n",
              "          });\n",
              "        }"
            ]
          },
          "metadata": {
            "tags": []
          }
        },
        {
          "output_type": "stream",
          "text": [
            "WARNING:apache_beam.io.tfrecordio:Couldn't find python-snappy so the implementation of _TFRecordUtil._masked_crc32c is not as fast as it could be.\n"
          ],
          "name": "stderr"
        },
        {
          "output_type": "stream",
          "text": [
            "WARNING:tensorflow:From /root/.local/lib/python3.7/site-packages/tensorflow_data_validation/utils/stats_util.py:247: tf_record_iterator (from tensorflow.python.lib.io.tf_record) is deprecated and will be removed in a future version.\n",
            "Instructions for updating:\n",
            "Use eager execution and: \n",
            "`tf.data.TFRecordDataset(path)`\n"
          ],
          "name": "stdout"
        },
        {
          "output_type": "stream",
          "text": [
            "WARNING:tensorflow:From /root/.local/lib/python3.7/site-packages/tensorflow_data_validation/utils/stats_util.py:247: tf_record_iterator (from tensorflow.python.lib.io.tf_record) is deprecated and will be removed in a future version.\n",
            "Instructions for updating:\n",
            "Use eager execution and: \n",
            "`tf.data.TFRecordDataset(path)`\n"
          ],
          "name": "stderr"
        },
        {
          "output_type": "display_data",
          "data": {
            "text/html": [
              "<iframe id='facets-iframe' width=\"100%\" height=\"500px\"></iframe>\n",
              "        <script>\n",
              "        facets_iframe = document.getElementById('facets-iframe');\n",
              "        facets_html = '<script src=\"https://cdnjs.cloudflare.com/ajax/libs/webcomponentsjs/1.3.3/webcomponents-lite.js\"><\\/script><link rel=\"import\" href=\"https://raw.githubusercontent.com/PAIR-code/facets/master/facets-dist/facets-jupyter.html\"><facets-overview proto-input=\"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\"></facets-overview>';\n",
              "        facets_iframe.srcdoc = facets_html;\n",
              "         facets_iframe.id = \"\";\n",
              "         setTimeout(() => {\n",
              "           facets_iframe.setAttribute('height', facets_iframe.contentWindow.document.body.offsetHeight + 'px')\n",
              "         }, 1500)\n",
              "         </script>"
            ],
            "text/plain": [
              "<IPython.core.display.HTML object>"
            ]
          },
          "metadata": {
            "tags": []
          }
        }
      ]
    },
    {
      "cell_type": "code",
      "metadata": {
        "id": "WfUEgSQh_vjv",
        "outputId": "0ff81d79-2ca4-45ae-960d-0e79207a0f17",
        "colab": {
          "base_uri": "https://localhost:8080/"
        }
      },
      "source": [
        "#@title Calculate label distribution for gender-related examples\n",
        "raw_dataset = tf.data.TFRecordDataset(train_tf_file)\n",
        "\n",
        "toxic_gender_examples = 0\n",
        "nontoxic_gender_examples = 0\n",
        "\n",
        "# TODO 4\n",
        "\n",
        "# There are 1,082,924 examples in the dataset\n",
        "# The `take()` method returns the specified number of elements starting from the first element.\n",
        "for raw_record in raw_dataset.take(1082924):\n",
        "  example = tf.train.Example()\n",
        "  example.ParseFromString(raw_record.numpy())\n",
        "  if str(example.features.feature[\"gender\"].bytes_list.value) != \"[]\":\n",
        "    if str(example.features.feature[\"toxicity\"].float_list.value) == \"[1.0]\":\n",
        "      toxic_gender_examples += 1\n",
        "    else:\n",
        "      nontoxic_gender_examples += 1\n",
        "\n",
        "# TODO 4a\n",
        "\n",
        "print(\"Toxic Gender Examples: %s\" % toxic_gender_examples)\n",
        "print(\"Nontoxic Gender Examples: %s\" % nontoxic_gender_examples)"
      ],
      "execution_count": 5,
      "outputs": [
        {
          "output_type": "stream",
          "text": [
            "Toxic Gender Examples: 7189\n",
            "Nontoxic Gender Examples: 41572\n"
          ],
          "name": "stdout"
        }
      ]
    },
    {
      "cell_type": "code",
      "metadata": {
        "id": "3yAlN_rrGxAU"
      },
      "source": [
        ""
      ],
      "execution_count": null,
      "outputs": []
    },
    {
      "cell_type": "code",
      "metadata": {
        "id": "LtfBHuXnGw7y"
      },
      "source": [
        ""
      ],
      "execution_count": null,
      "outputs": []
    }
  ]
}