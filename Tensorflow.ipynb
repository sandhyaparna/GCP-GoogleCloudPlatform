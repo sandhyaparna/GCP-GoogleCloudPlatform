{
  "nbformat": 4,
  "nbformat_minor": 0,
  "metadata": {
    "colab": {
      "name": "GCP.ipynb",
      "provenance": [],
      "collapsed_sections": [],
      "authorship_tag": "ABX9TyO4oj7WmOnuiX7MW/0Rh/0j",
      "include_colab_link": true
    },
    "kernelspec": {
      "name": "python3",
      "display_name": "Python 3"
    },
    "language_info": {
      "name": "python"
    }
  },
  "cells": [
    {
      "cell_type": "markdown",
      "metadata": {
        "id": "view-in-github",
        "colab_type": "text"
      },
      "source": [
        "<a href=\"https://colab.research.google.com/github/sandhyaparna/GCP-GoogleCloudPlatform/blob/master/Tensorflow.ipynb\" target=\"_parent\"><img src=\"https://colab.research.google.com/assets/colab-badge.svg\" alt=\"Open In Colab\"/></a>"
      ]
    },
    {
      "cell_type": "markdown",
      "metadata": {
        "id": "LK7IPjFRyPi4"
      },
      "source": [
        "# TensorFlow and Deep Learning fundamentals with Python videos\n",
        "* https://www.youtube.com/watch?v=tpCFfeUEGs8&t=3221s\n",
        "\n"
      ]
    },
    {
      "cell_type": "markdown",
      "metadata": {
        "id": "AcJ77NQKyfVX"
      },
      "source": [
        "* tf.constant: shape & dimensions of tensors, mention data type\n",
        "* tf.Varible: assign/modify values\n",
        "* random tensor generator: uniform, normal distribution\n",
        "* tf.ones(shape=(3, 2)); tf.zeros(shape=(3, 2))\n",
        "* shuffle a tensor: shuffling is important for NN as we want the model to not see a continous flow of images of same category, it will impact how the model learns - matrix is shuffled based on rows\n",
        "  * To shuffle in the same order: we need to Set the global random seed using tf.random.set_seed(42), before using it in ft.random.shuffle(matrix, seed=42)\n",
        "* Turn arrays into tensors\n",
        "* Indexing Tensors\n",
        "* tf.cast(X, dtype=tf.float16) : change data type of tensor\n",
        "* tf.abs(X)\n",
        "* tf.reduce_min() - find the minimum value in a tensor.\n",
        "* tf.reduce_max() - find the maximum value in a tensor (helpful for when you want to find the highest prediction probability).\n",
        "* tf.reduce_mean() - find the mean of all elements in a tensor.\n",
        "* tf.reduce_sum() - find the sum of all elements in a tensor.\n",
        "* tf.argmax() - find the position of the maximum element in a given tensor.\n",
        "* tf.argmin() - find the position of the minimum element in a given tensor.\n",
        "\n"
      ]
    },
    {
      "cell_type": "code",
      "metadata": {
        "id": "oCqRPWk7-kBG"
      },
      "source": [
        "import numpy as np\n",
        "import tensorflow as tf"
      ],
      "execution_count": null,
      "outputs": []
    },
    {
      "cell_type": "code",
      "metadata": {
        "id": "haQbJ2VDeBfw",
        "colab": {
          "base_uri": "https://localhost:8080/",
          "height": 204
        },
        "outputId": "59b08e06-9ec4-4bf2-e5a7-4b9607c25b2c"
      },
      "source": [
        "import plotly.express as px\n",
        "Tips = px.data.tips()\n",
        "Tips.head()"
      ],
      "execution_count": null,
      "outputs": [
        {
          "output_type": "execute_result",
          "data": {
            "text/html": [
              "<div>\n",
              "<style scoped>\n",
              "    .dataframe tbody tr th:only-of-type {\n",
              "        vertical-align: middle;\n",
              "    }\n",
              "\n",
              "    .dataframe tbody tr th {\n",
              "        vertical-align: top;\n",
              "    }\n",
              "\n",
              "    .dataframe thead th {\n",
              "        text-align: right;\n",
              "    }\n",
              "</style>\n",
              "<table border=\"1\" class=\"dataframe\">\n",
              "  <thead>\n",
              "    <tr style=\"text-align: right;\">\n",
              "      <th></th>\n",
              "      <th>total_bill</th>\n",
              "      <th>tip</th>\n",
              "      <th>sex</th>\n",
              "      <th>smoker</th>\n",
              "      <th>day</th>\n",
              "      <th>time</th>\n",
              "      <th>size</th>\n",
              "    </tr>\n",
              "  </thead>\n",
              "  <tbody>\n",
              "    <tr>\n",
              "      <th>0</th>\n",
              "      <td>16.99</td>\n",
              "      <td>1.01</td>\n",
              "      <td>Female</td>\n",
              "      <td>No</td>\n",
              "      <td>Sun</td>\n",
              "      <td>Dinner</td>\n",
              "      <td>2</td>\n",
              "    </tr>\n",
              "    <tr>\n",
              "      <th>1</th>\n",
              "      <td>10.34</td>\n",
              "      <td>1.66</td>\n",
              "      <td>Male</td>\n",
              "      <td>No</td>\n",
              "      <td>Sun</td>\n",
              "      <td>Dinner</td>\n",
              "      <td>3</td>\n",
              "    </tr>\n",
              "    <tr>\n",
              "      <th>2</th>\n",
              "      <td>21.01</td>\n",
              "      <td>3.50</td>\n",
              "      <td>Male</td>\n",
              "      <td>No</td>\n",
              "      <td>Sun</td>\n",
              "      <td>Dinner</td>\n",
              "      <td>3</td>\n",
              "    </tr>\n",
              "    <tr>\n",
              "      <th>3</th>\n",
              "      <td>23.68</td>\n",
              "      <td>3.31</td>\n",
              "      <td>Male</td>\n",
              "      <td>No</td>\n",
              "      <td>Sun</td>\n",
              "      <td>Dinner</td>\n",
              "      <td>2</td>\n",
              "    </tr>\n",
              "    <tr>\n",
              "      <th>4</th>\n",
              "      <td>24.59</td>\n",
              "      <td>3.61</td>\n",
              "      <td>Female</td>\n",
              "      <td>No</td>\n",
              "      <td>Sun</td>\n",
              "      <td>Dinner</td>\n",
              "      <td>4</td>\n",
              "    </tr>\n",
              "  </tbody>\n",
              "</table>\n",
              "</div>"
            ],
            "text/plain": [
              "   total_bill   tip     sex smoker  day    time  size\n",
              "0       16.99  1.01  Female     No  Sun  Dinner     2\n",
              "1       10.34  1.66    Male     No  Sun  Dinner     3\n",
              "2       21.01  3.50    Male     No  Sun  Dinner     3\n",
              "3       23.68  3.31    Male     No  Sun  Dinner     2\n",
              "4       24.59  3.61  Female     No  Sun  Dinner     4"
            ]
          },
          "metadata": {
            "tags": []
          },
          "execution_count": 41
        }
      ]
    },
    {
      "cell_type": "code",
      "metadata": {
        "colab": {
          "base_uri": "https://localhost:8080/",
          "height": 297
        },
        "id": "KkiHvPGR9T3K",
        "outputId": "dfa04694-a997-426b-ea1c-598a2e994ebc"
      },
      "source": [
        "Tips.describe()"
      ],
      "execution_count": null,
      "outputs": [
        {
          "output_type": "execute_result",
          "data": {
            "text/html": [
              "<div>\n",
              "<style scoped>\n",
              "    .dataframe tbody tr th:only-of-type {\n",
              "        vertical-align: middle;\n",
              "    }\n",
              "\n",
              "    .dataframe tbody tr th {\n",
              "        vertical-align: top;\n",
              "    }\n",
              "\n",
              "    .dataframe thead th {\n",
              "        text-align: right;\n",
              "    }\n",
              "</style>\n",
              "<table border=\"1\" class=\"dataframe\">\n",
              "  <thead>\n",
              "    <tr style=\"text-align: right;\">\n",
              "      <th></th>\n",
              "      <th>total_bill</th>\n",
              "      <th>tip</th>\n",
              "      <th>size</th>\n",
              "    </tr>\n",
              "  </thead>\n",
              "  <tbody>\n",
              "    <tr>\n",
              "      <th>count</th>\n",
              "      <td>244.000000</td>\n",
              "      <td>244.000000</td>\n",
              "      <td>244.000000</td>\n",
              "    </tr>\n",
              "    <tr>\n",
              "      <th>mean</th>\n",
              "      <td>19.785943</td>\n",
              "      <td>2.998279</td>\n",
              "      <td>2.569672</td>\n",
              "    </tr>\n",
              "    <tr>\n",
              "      <th>std</th>\n",
              "      <td>8.902412</td>\n",
              "      <td>1.383638</td>\n",
              "      <td>0.951100</td>\n",
              "    </tr>\n",
              "    <tr>\n",
              "      <th>min</th>\n",
              "      <td>3.070000</td>\n",
              "      <td>1.000000</td>\n",
              "      <td>1.000000</td>\n",
              "    </tr>\n",
              "    <tr>\n",
              "      <th>25%</th>\n",
              "      <td>13.347500</td>\n",
              "      <td>2.000000</td>\n",
              "      <td>2.000000</td>\n",
              "    </tr>\n",
              "    <tr>\n",
              "      <th>50%</th>\n",
              "      <td>17.795000</td>\n",
              "      <td>2.900000</td>\n",
              "      <td>2.000000</td>\n",
              "    </tr>\n",
              "    <tr>\n",
              "      <th>75%</th>\n",
              "      <td>24.127500</td>\n",
              "      <td>3.562500</td>\n",
              "      <td>3.000000</td>\n",
              "    </tr>\n",
              "    <tr>\n",
              "      <th>max</th>\n",
              "      <td>50.810000</td>\n",
              "      <td>10.000000</td>\n",
              "      <td>6.000000</td>\n",
              "    </tr>\n",
              "  </tbody>\n",
              "</table>\n",
              "</div>"
            ],
            "text/plain": [
              "       total_bill         tip        size\n",
              "count  244.000000  244.000000  244.000000\n",
              "mean    19.785943    2.998279    2.569672\n",
              "std      8.902412    1.383638    0.951100\n",
              "min      3.070000    1.000000    1.000000\n",
              "25%     13.347500    2.000000    2.000000\n",
              "50%     17.795000    2.900000    2.000000\n",
              "75%     24.127500    3.562500    3.000000\n",
              "max     50.810000   10.000000    6.000000"
            ]
          },
          "metadata": {
            "tags": []
          },
          "execution_count": 42
        }
      ]
    },
    {
      "cell_type": "code",
      "metadata": {
        "colab": {
          "base_uri": "https://localhost:8080/"
        },
        "id": "BnXYOAODeWOB",
        "outputId": "2e579033-d165-4a2c-bda2-dd5e6cc2ed88"
      },
      "source": [
        "Tips['sex'].value_counts()"
      ],
      "execution_count": null,
      "outputs": [
        {
          "output_type": "execute_result",
          "data": {
            "text/plain": [
              "Male      157\n",
              "Female     87\n",
              "Name: sex, dtype: int64"
            ]
          },
          "metadata": {
            "tags": []
          },
          "execution_count": 3
        }
      ]
    },
    {
      "cell_type": "code",
      "metadata": {
        "colab": {
          "base_uri": "https://localhost:8080/"
        },
        "id": "5goCSfdlenjP",
        "outputId": "94173aa6-e5d1-4267-fc9e-a23505fd99d1"
      },
      "source": [
        "Tips['sex'].value_counts(0)"
      ],
      "execution_count": null,
      "outputs": [
        {
          "output_type": "execute_result",
          "data": {
            "text/plain": [
              "Male      157\n",
              "Female     87\n",
              "Name: sex, dtype: int64"
            ]
          },
          "metadata": {
            "tags": []
          },
          "execution_count": 4
        }
      ]
    },
    {
      "cell_type": "code",
      "metadata": {
        "id": "TpWJe0BOzQ2a"
      },
      "source": [
        "Tips_copy = Tips\n",
        "Tips_shallowcopy = Tips.copy()\n",
        "Tips_deepcopy = Tips.copy(deep=True)"
      ],
      "execution_count": null,
      "outputs": []
    },
    {
      "cell_type": "code",
      "metadata": {
        "id": "K1kzwTbIepfr"
      },
      "source": [
        "Tips['tips_10perc_inc'] = Tips['tip']*1.1"
      ],
      "execution_count": null,
      "outputs": []
    },
    {
      "cell_type": "code",
      "metadata": {
        "id": "PwxcEWiVemgN",
        "colab": {
          "base_uri": "https://localhost:8080/",
          "height": 111
        },
        "outputId": "8802ea04-fcad-46bb-f24f-39eadb613597"
      },
      "source": [
        "Tips.head(2)"
      ],
      "execution_count": null,
      "outputs": [
        {
          "output_type": "execute_result",
          "data": {
            "text/html": [
              "<div>\n",
              "<style scoped>\n",
              "    .dataframe tbody tr th:only-of-type {\n",
              "        vertical-align: middle;\n",
              "    }\n",
              "\n",
              "    .dataframe tbody tr th {\n",
              "        vertical-align: top;\n",
              "    }\n",
              "\n",
              "    .dataframe thead th {\n",
              "        text-align: right;\n",
              "    }\n",
              "</style>\n",
              "<table border=\"1\" class=\"dataframe\">\n",
              "  <thead>\n",
              "    <tr style=\"text-align: right;\">\n",
              "      <th></th>\n",
              "      <th>total_bill</th>\n",
              "      <th>tip</th>\n",
              "      <th>sex</th>\n",
              "      <th>smoker</th>\n",
              "      <th>day</th>\n",
              "      <th>time</th>\n",
              "      <th>size</th>\n",
              "      <th>tips_10perc_inc</th>\n",
              "    </tr>\n",
              "  </thead>\n",
              "  <tbody>\n",
              "    <tr>\n",
              "      <th>0</th>\n",
              "      <td>16.99</td>\n",
              "      <td>1.01</td>\n",
              "      <td>Female</td>\n",
              "      <td>No</td>\n",
              "      <td>Sun</td>\n",
              "      <td>Dinner</td>\n",
              "      <td>2</td>\n",
              "      <td>1.111</td>\n",
              "    </tr>\n",
              "    <tr>\n",
              "      <th>1</th>\n",
              "      <td>10.34</td>\n",
              "      <td>1.66</td>\n",
              "      <td>Male</td>\n",
              "      <td>No</td>\n",
              "      <td>Sun</td>\n",
              "      <td>Dinner</td>\n",
              "      <td>3</td>\n",
              "      <td>1.826</td>\n",
              "    </tr>\n",
              "  </tbody>\n",
              "</table>\n",
              "</div>"
            ],
            "text/plain": [
              "   total_bill   tip     sex smoker  day    time  size  tips_10perc_inc\n",
              "0       16.99  1.01  Female     No  Sun  Dinner     2            1.111\n",
              "1       10.34  1.66    Male     No  Sun  Dinner     3            1.826"
            ]
          },
          "metadata": {
            "tags": []
          },
          "execution_count": 20
        }
      ]
    },
    {
      "cell_type": "code",
      "metadata": {
        "id": "iEKZcSq-eWAY",
        "colab": {
          "base_uri": "https://localhost:8080/",
          "height": 111
        },
        "outputId": "077b5eea-1588-43c9-d5a4-6ba3408c3f42"
      },
      "source": [
        "Tips_copy.head(2)"
      ],
      "execution_count": null,
      "outputs": [
        {
          "output_type": "execute_result",
          "data": {
            "text/html": [
              "<div>\n",
              "<style scoped>\n",
              "    .dataframe tbody tr th:only-of-type {\n",
              "        vertical-align: middle;\n",
              "    }\n",
              "\n",
              "    .dataframe tbody tr th {\n",
              "        vertical-align: top;\n",
              "    }\n",
              "\n",
              "    .dataframe thead th {\n",
              "        text-align: right;\n",
              "    }\n",
              "</style>\n",
              "<table border=\"1\" class=\"dataframe\">\n",
              "  <thead>\n",
              "    <tr style=\"text-align: right;\">\n",
              "      <th></th>\n",
              "      <th>total_bill</th>\n",
              "      <th>tip</th>\n",
              "      <th>sex</th>\n",
              "      <th>smoker</th>\n",
              "      <th>day</th>\n",
              "      <th>time</th>\n",
              "      <th>size</th>\n",
              "      <th>tips_10perc_inc</th>\n",
              "    </tr>\n",
              "  </thead>\n",
              "  <tbody>\n",
              "    <tr>\n",
              "      <th>0</th>\n",
              "      <td>16.99</td>\n",
              "      <td>1.01</td>\n",
              "      <td>Female</td>\n",
              "      <td>No</td>\n",
              "      <td>Sun</td>\n",
              "      <td>Dinner</td>\n",
              "      <td>2</td>\n",
              "      <td>1.111</td>\n",
              "    </tr>\n",
              "    <tr>\n",
              "      <th>1</th>\n",
              "      <td>10.34</td>\n",
              "      <td>1.66</td>\n",
              "      <td>Male</td>\n",
              "      <td>No</td>\n",
              "      <td>Sun</td>\n",
              "      <td>Dinner</td>\n",
              "      <td>3</td>\n",
              "      <td>1.826</td>\n",
              "    </tr>\n",
              "  </tbody>\n",
              "</table>\n",
              "</div>"
            ],
            "text/plain": [
              "   total_bill   tip     sex smoker  day    time  size  tips_10perc_inc\n",
              "0       16.99  1.01  Female     No  Sun  Dinner     2            1.111\n",
              "1       10.34  1.66    Male     No  Sun  Dinner     3            1.826"
            ]
          },
          "metadata": {
            "tags": []
          },
          "execution_count": 21
        }
      ]
    },
    {
      "cell_type": "code",
      "metadata": {
        "id": "c0U2O8a9zke4"
      },
      "source": [
        "Tips_shallowcopy['tips_10perc_inc'] = Tips_shallowcopy['tip']*1.5"
      ],
      "execution_count": null,
      "outputs": []
    },
    {
      "cell_type": "code",
      "metadata": {
        "colab": {
          "base_uri": "https://localhost:8080/",
          "height": 111
        },
        "id": "GE_Qz2q-zklC",
        "outputId": "e6a4a4ed-12e1-4dc3-a107-8d8038cb9a4e"
      },
      "source": [
        "Tips_shallowcopy.head(2)"
      ],
      "execution_count": null,
      "outputs": [
        {
          "output_type": "execute_result",
          "data": {
            "text/html": [
              "<div>\n",
              "<style scoped>\n",
              "    .dataframe tbody tr th:only-of-type {\n",
              "        vertical-align: middle;\n",
              "    }\n",
              "\n",
              "    .dataframe tbody tr th {\n",
              "        vertical-align: top;\n",
              "    }\n",
              "\n",
              "    .dataframe thead th {\n",
              "        text-align: right;\n",
              "    }\n",
              "</style>\n",
              "<table border=\"1\" class=\"dataframe\">\n",
              "  <thead>\n",
              "    <tr style=\"text-align: right;\">\n",
              "      <th></th>\n",
              "      <th>total_bill</th>\n",
              "      <th>tip</th>\n",
              "      <th>sex</th>\n",
              "      <th>smoker</th>\n",
              "      <th>day</th>\n",
              "      <th>time</th>\n",
              "      <th>size</th>\n",
              "      <th>tips_10perc_inc</th>\n",
              "    </tr>\n",
              "  </thead>\n",
              "  <tbody>\n",
              "    <tr>\n",
              "      <th>0</th>\n",
              "      <td>16.99</td>\n",
              "      <td>1.01</td>\n",
              "      <td>Female</td>\n",
              "      <td>No</td>\n",
              "      <td>Sun</td>\n",
              "      <td>Dinner</td>\n",
              "      <td>2</td>\n",
              "      <td>1.515</td>\n",
              "    </tr>\n",
              "    <tr>\n",
              "      <th>1</th>\n",
              "      <td>10.34</td>\n",
              "      <td>1.66</td>\n",
              "      <td>Male</td>\n",
              "      <td>No</td>\n",
              "      <td>Sun</td>\n",
              "      <td>Dinner</td>\n",
              "      <td>3</td>\n",
              "      <td>2.490</td>\n",
              "    </tr>\n",
              "  </tbody>\n",
              "</table>\n",
              "</div>"
            ],
            "text/plain": [
              "   total_bill   tip     sex smoker  day    time  size  tips_10perc_inc\n",
              "0       16.99  1.01  Female     No  Sun  Dinner     2            1.515\n",
              "1       10.34  1.66    Male     No  Sun  Dinner     3            2.490"
            ]
          },
          "metadata": {
            "tags": []
          },
          "execution_count": 22
        }
      ]
    },
    {
      "cell_type": "code",
      "metadata": {
        "colab": {
          "base_uri": "https://localhost:8080/",
          "height": 111
        },
        "id": "AMcUniOmzkiP",
        "outputId": "73b51371-72a0-4195-d537-df0eba0e331b"
      },
      "source": [
        "Tips_deepcopy.head(2)"
      ],
      "execution_count": null,
      "outputs": [
        {
          "output_type": "execute_result",
          "data": {
            "text/html": [
              "<div>\n",
              "<style scoped>\n",
              "    .dataframe tbody tr th:only-of-type {\n",
              "        vertical-align: middle;\n",
              "    }\n",
              "\n",
              "    .dataframe tbody tr th {\n",
              "        vertical-align: top;\n",
              "    }\n",
              "\n",
              "    .dataframe thead th {\n",
              "        text-align: right;\n",
              "    }\n",
              "</style>\n",
              "<table border=\"1\" class=\"dataframe\">\n",
              "  <thead>\n",
              "    <tr style=\"text-align: right;\">\n",
              "      <th></th>\n",
              "      <th>total_bill</th>\n",
              "      <th>tip</th>\n",
              "      <th>sex</th>\n",
              "      <th>smoker</th>\n",
              "      <th>day</th>\n",
              "      <th>time</th>\n",
              "      <th>size</th>\n",
              "    </tr>\n",
              "  </thead>\n",
              "  <tbody>\n",
              "    <tr>\n",
              "      <th>0</th>\n",
              "      <td>16.99</td>\n",
              "      <td>1.01</td>\n",
              "      <td>Female</td>\n",
              "      <td>No</td>\n",
              "      <td>Sun</td>\n",
              "      <td>Dinner</td>\n",
              "      <td>2</td>\n",
              "    </tr>\n",
              "    <tr>\n",
              "      <th>1</th>\n",
              "      <td>10.34</td>\n",
              "      <td>1.66</td>\n",
              "      <td>Male</td>\n",
              "      <td>No</td>\n",
              "      <td>Sun</td>\n",
              "      <td>Dinner</td>\n",
              "      <td>3</td>\n",
              "    </tr>\n",
              "  </tbody>\n",
              "</table>\n",
              "</div>"
            ],
            "text/plain": [
              "   total_bill   tip     sex smoker  day    time  size\n",
              "0       16.99  1.01  Female     No  Sun  Dinner     2\n",
              "1       10.34  1.66    Male     No  Sun  Dinner     3"
            ]
          },
          "metadata": {
            "tags": []
          },
          "execution_count": 24
        }
      ]
    },
    {
      "cell_type": "code",
      "metadata": {
        "colab": {
          "base_uri": "https://localhost:8080/"
        },
        "id": "sXx9-icr0Ib5",
        "outputId": "5b714656-1ce6-480a-a4f5-dda923e1e2da"
      },
      "source": [
        "# To iterate over rows of a data frame\n",
        "# iter corresponds to the rows number of the dataframe\n",
        "# row correspond the values of the row number\n",
        "for iter, row in Tips.head(2).iterrows():\n",
        "  print(iter)\n",
        "  print(row)\n",
        "  print(\"Tip value for the row is:\",row[\"tip\"])  # to extract value of the column for that row"
      ],
      "execution_count": null,
      "outputs": [
        {
          "output_type": "stream",
          "text": [
            "0\n",
            "total_bill          16.99\n",
            "tip                  1.01\n",
            "sex                Female\n",
            "smoker                 No\n",
            "day                   Sun\n",
            "time               Dinner\n",
            "size                    2\n",
            "tips_10perc_inc     1.111\n",
            "Name: 0, dtype: object\n",
            "Tip value for the row is: 1.01\n",
            "1\n",
            "total_bill          10.34\n",
            "tip                  1.66\n",
            "sex                  Male\n",
            "smoker                 No\n",
            "day                   Sun\n",
            "time               Dinner\n",
            "size                    3\n",
            "tips_10perc_inc     1.826\n",
            "Name: 1, dtype: object\n",
            "Tip value for the row is: 1.66\n"
          ],
          "name": "stdout"
        }
      ]
    },
    {
      "cell_type": "code",
      "metadata": {
        "colab": {
          "base_uri": "https://localhost:8080/"
        },
        "id": "tmd04xt7zkXV",
        "outputId": "0bcba920-3e7a-4955-b89b-02c0f3cb47c7"
      },
      "source": [
        "from google.colab import auth\n",
        "auth.authenticate_user()\n",
        "print('Authenticated')"
      ],
      "execution_count": null,
      "outputs": [
        {
          "output_type": "stream",
          "text": [
            "Authenticated\n"
          ],
          "name": "stdout"
        }
      ]
    },
    {
      "cell_type": "code",
      "metadata": {
        "id": "E-QWhfhq6kip"
      },
      "source": [
        "# Extracting data from Big Query - https://colab.research.google.com/notebooks/bigquery.ipynb#scrollTo=DMxOKQ3vJplj\n",
        "%%bigquery --project ml-tensorflow-coursera9 TaxiTrips\n",
        "SELECT * \n",
        "FROM `bigquery-public-data.new_york_taxi_trips.tlc_fhv_trips_2016` # TODO 1\n",
        "LIMIT 10"
      ],
      "execution_count": null,
      "outputs": []
    },
    {
      "cell_type": "code",
      "metadata": {
        "colab": {
          "base_uri": "https://localhost:8080/",
          "height": 204
        },
        "id": "Da4_79NN7CE4",
        "outputId": "e89051d7-f15f-41c7-e929-3d7171fd11d6"
      },
      "source": [
        "TaxiTrips.head()"
      ],
      "execution_count": null,
      "outputs": [
        {
          "output_type": "execute_result",
          "data": {
            "text/html": [
              "<div>\n",
              "<style scoped>\n",
              "    .dataframe tbody tr th:only-of-type {\n",
              "        vertical-align: middle;\n",
              "    }\n",
              "\n",
              "    .dataframe tbody tr th {\n",
              "        vertical-align: top;\n",
              "    }\n",
              "\n",
              "    .dataframe thead th {\n",
              "        text-align: right;\n",
              "    }\n",
              "</style>\n",
              "<table border=\"1\" class=\"dataframe\">\n",
              "  <thead>\n",
              "    <tr style=\"text-align: right;\">\n",
              "      <th></th>\n",
              "      <th>location_id</th>\n",
              "      <th>pickup_datetime</th>\n",
              "      <th>dispatching_base_num</th>\n",
              "      <th>borough</th>\n",
              "      <th>zone</th>\n",
              "      <th>service_zone</th>\n",
              "    </tr>\n",
              "  </thead>\n",
              "  <tbody>\n",
              "    <tr>\n",
              "      <th>0</th>\n",
              "      <td>227</td>\n",
              "      <td>2016-05-12 10:53:00</td>\n",
              "      <td>B01606</td>\n",
              "      <td>Brooklyn</td>\n",
              "      <td>Sunset Park East</td>\n",
              "      <td>Boro Zone</td>\n",
              "    </tr>\n",
              "    <tr>\n",
              "      <th>1</th>\n",
              "      <td>254</td>\n",
              "      <td>2016-05-27 09:24:00</td>\n",
              "      <td>B01233</td>\n",
              "      <td>Bronx</td>\n",
              "      <td>Williamsbridge/Olinville</td>\n",
              "      <td>Boro Zone</td>\n",
              "    </tr>\n",
              "    <tr>\n",
              "      <th>2</th>\n",
              "      <td>213</td>\n",
              "      <td>2016-05-14 13:35:00</td>\n",
              "      <td>B00221</td>\n",
              "      <td>Bronx</td>\n",
              "      <td>Soundview/Castle Hill</td>\n",
              "      <td>Boro Zone</td>\n",
              "    </tr>\n",
              "    <tr>\n",
              "      <th>3</th>\n",
              "      <td>35</td>\n",
              "      <td>2016-12-23 12:47:26</td>\n",
              "      <td>B02884</td>\n",
              "      <td>Brooklyn</td>\n",
              "      <td>Brownsville</td>\n",
              "      <td>Boro Zone</td>\n",
              "    </tr>\n",
              "    <tr>\n",
              "      <th>4</th>\n",
              "      <td>41</td>\n",
              "      <td>2016-09-04 04:46:47</td>\n",
              "      <td>B02872</td>\n",
              "      <td>Manhattan</td>\n",
              "      <td>Central Harlem</td>\n",
              "      <td>Boro Zone</td>\n",
              "    </tr>\n",
              "  </tbody>\n",
              "</table>\n",
              "</div>"
            ],
            "text/plain": [
              "   location_id     pickup_datetime  ...                      zone service_zone\n",
              "0          227 2016-05-12 10:53:00  ...          Sunset Park East    Boro Zone\n",
              "1          254 2016-05-27 09:24:00  ...  Williamsbridge/Olinville    Boro Zone\n",
              "2          213 2016-05-14 13:35:00  ...     Soundview/Castle Hill    Boro Zone\n",
              "3           35 2016-12-23 12:47:26  ...               Brownsville    Boro Zone\n",
              "4           41 2016-09-04 04:46:47  ...            Central Harlem    Boro Zone\n",
              "\n",
              "[5 rows x 6 columns]"
            ]
          },
          "metadata": {
            "tags": []
          },
          "execution_count": 31
        }
      ]
    },
    {
      "cell_type": "code",
      "metadata": {
        "id": "FHjigbFN69oQ"
      },
      "source": [
        "# https://numpy.org/doc/stable/reference/generated/numpy.all.html\n",
        "# pre-processing using np.all\n",
        "# Rows that dont satisfy any of the conditions within np.all are removed\n",
        "\n",
        "def preprocess(df_process):\n",
        "    Tips = df_process.copy(deep=True)  # Making sure that when preprocess if applied on trips data, original copy of trips is created\n",
        "    qc = np.all([\n",
        "        df_process[\"tip\"] >= 1,\n",
        "        df_process[\"tip\"] <= 5,\n",
        "        df_process[\"size\"] >= 2,\n",
        "        df_process[\"size\"] <= 4,\n",
        "        ], axis=0)\n",
        "\n",
        "    return df_process[qc]"
      ],
      "execution_count": null,
      "outputs": []
    },
    {
      "cell_type": "code",
      "metadata": {
        "colab": {
          "base_uri": "https://localhost:8080/"
        },
        "id": "68aQxnJf9yG5",
        "outputId": "fc090c4c-465c-4957-fbf5-5df10e7680be"
      },
      "source": [
        "Tips_qc = preprocess(Tips)\n",
        "print(Tips_qc.describe(),\"\\n\")\n",
        "print(Tips_qc.shape, \"of\", Tips.shape, \" rows remained\")"
      ],
      "execution_count": null,
      "outputs": [
        {
          "output_type": "stream",
          "text": [
            "       total_bill         tip        size\n",
            "count  215.000000  215.000000  215.000000\n",
            "mean    18.597163    2.714930    2.413953\n",
            "std      7.545923    0.951029    0.704320\n",
            "min      5.750000    1.000000    2.000000\n",
            "25%     13.215000    2.000000    2.000000\n",
            "50%     16.990000    2.600000    2.000000\n",
            "75%     21.910000    3.395000    3.000000\n",
            "max     45.350000    5.000000    4.000000 \n",
            "\n",
            "(215, 7) of (244, 7)  rows remained\n"
          ],
          "name": "stdout"
        }
      ]
    },
    {
      "cell_type": "code",
      "metadata": {
        "colab": {
          "base_uri": "https://localhost:8080/"
        },
        "id": "AwMPaDTg_55v",
        "outputId": "a4765754-7027-4737-cd1c-1bdb1f90ba90"
      },
      "source": [
        "# Gives out values from 0 to len(Tips_qc)\n",
        "np.arange(0, len(Tips_qc))"
      ],
      "execution_count": null,
      "outputs": [
        {
          "output_type": "execute_result",
          "data": {
            "text/plain": [
              "array([  0,   1,   2,   3,   4,   5,   6,   7,   8,   9,  10,  11,  12,\n",
              "        13,  14,  15,  16,  17,  18,  19,  20,  21,  22,  23,  24,  25,\n",
              "        26,  27,  28,  29,  30,  31,  32,  33,  34,  35,  36,  37,  38,\n",
              "        39,  40,  41,  42,  43,  44,  45,  46,  47,  48,  49,  50,  51,\n",
              "        52,  53,  54,  55,  56,  57,  58,  59,  60,  61,  62,  63,  64,\n",
              "        65,  66,  67,  68,  69,  70,  71,  72,  73,  74,  75,  76,  77,\n",
              "        78,  79,  80,  81,  82,  83,  84,  85,  86,  87,  88,  89,  90,\n",
              "        91,  92,  93,  94,  95,  96,  97,  98,  99, 100, 101, 102, 103,\n",
              "       104, 105, 106, 107, 108, 109, 110, 111, 112, 113, 114, 115, 116,\n",
              "       117, 118, 119, 120, 121, 122, 123, 124, 125, 126, 127, 128, 129,\n",
              "       130, 131, 132, 133, 134, 135, 136, 137, 138, 139, 140, 141, 142,\n",
              "       143, 144, 145, 146, 147, 148, 149, 150, 151, 152, 153, 154, 155,\n",
              "       156, 157, 158, 159, 160, 161, 162, 163, 164, 165, 166, 167, 168,\n",
              "       169, 170, 171, 172, 173, 174, 175, 176, 177, 178, 179, 180, 181,\n",
              "       182, 183, 184, 185, 186, 187, 188, 189, 190, 191, 192, 193, 194,\n",
              "       195, 196, 197, 198, 199, 200, 201, 202, 203, 204, 205, 206, 207,\n",
              "       208, 209, 210, 211, 212, 213, 214])"
            ]
          },
          "metadata": {
            "tags": []
          },
          "execution_count": 65
        }
      ]
    },
    {
      "cell_type": "code",
      "metadata": {
        "colab": {
          "base_uri": "https://localhost:8080/"
        },
        "id": "i47lISjAB9Cr",
        "outputId": "95600800-2f9f-4096-af91-752c74cfe990"
      },
      "source": [
        "# Diff between append and extend\n",
        "features = list(Tips)\n",
        "features.extend([\"X1\",\"X2\",\"X3\"])\n",
        "print(features)\n",
        "features.append([\"X4\",\"X5\",\"X6\"])\n",
        "print(features)"
      ],
      "execution_count": null,
      "outputs": [
        {
          "output_type": "stream",
          "text": [
            "['total_bill', 'tip', 'sex', 'smoker', 'day', 'time', 'size', 'X1', 'X2', 'X3']\n",
            "['total_bill', 'tip', 'sex', 'smoker', 'day', 'time', 'size', 'X1', 'X2', 'X3', ['X4', 'X5', 'X6']]\n"
          ],
          "name": "stdout"
        }
      ]
    },
    {
      "cell_type": "markdown",
      "metadata": {
        "id": "-0yMjJ0GTDp6"
      },
      "source": [
        "### Tensorflow"
      ]
    },
    {
      "cell_type": "code",
      "metadata": {
        "colab": {
          "base_uri": "https://localhost:8080/"
        },
        "id": "hcWmQ3LeHE9s",
        "outputId": "5ee1666b-9d96-4d0a-e83d-6bb4b1739e0c"
      },
      "source": [
        "tf.zeros([3, 2, 4, 5])"
      ],
      "execution_count": null,
      "outputs": [
        {
          "output_type": "execute_result",
          "data": {
            "text/plain": [
              "<tf.Tensor: shape=(3, 2, 4, 5), dtype=float32, numpy=\n",
              "array([[[[0., 0., 0., 0., 0.],\n",
              "         [0., 0., 0., 0., 0.],\n",
              "         [0., 0., 0., 0., 0.],\n",
              "         [0., 0., 0., 0., 0.]],\n",
              "\n",
              "        [[0., 0., 0., 0., 0.],\n",
              "         [0., 0., 0., 0., 0.],\n",
              "         [0., 0., 0., 0., 0.],\n",
              "         [0., 0., 0., 0., 0.]]],\n",
              "\n",
              "\n",
              "       [[[0., 0., 0., 0., 0.],\n",
              "         [0., 0., 0., 0., 0.],\n",
              "         [0., 0., 0., 0., 0.],\n",
              "         [0., 0., 0., 0., 0.]],\n",
              "\n",
              "        [[0., 0., 0., 0., 0.],\n",
              "         [0., 0., 0., 0., 0.],\n",
              "         [0., 0., 0., 0., 0.],\n",
              "         [0., 0., 0., 0., 0.]]],\n",
              "\n",
              "\n",
              "       [[[0., 0., 0., 0., 0.],\n",
              "         [0., 0., 0., 0., 0.],\n",
              "         [0., 0., 0., 0., 0.],\n",
              "         [0., 0., 0., 0., 0.]],\n",
              "\n",
              "        [[0., 0., 0., 0., 0.],\n",
              "         [0., 0., 0., 0., 0.],\n",
              "         [0., 0., 0., 0., 0.],\n",
              "         [0., 0., 0., 0., 0.]]]], dtype=float32)>"
            ]
          },
          "metadata": {
            "tags": []
          },
          "execution_count": 75
        }
      ]
    },
    {
      "cell_type": "code",
      "metadata": {
        "colab": {
          "base_uri": "https://localhost:8080/"
        },
        "id": "Kk3pvlxtQyj_",
        "outputId": "2193ea66-fa35-4e51-dbb1-c6225257bdbe"
      },
      "source": [
        "Ones_matrix = tf.ones([4, 5])\n",
        "Ones_matrix"
      ],
      "execution_count": null,
      "outputs": [
        {
          "output_type": "execute_result",
          "data": {
            "text/plain": [
              "<tf.Tensor: shape=(4, 5), dtype=float32, numpy=\n",
              "array([[1., 1., 1., 1., 1.],\n",
              "       [1., 1., 1., 1., 1.],\n",
              "       [1., 1., 1., 1., 1.],\n",
              "       [1., 1., 1., 1., 1.]], dtype=float32)>"
            ]
          },
          "metadata": {
            "tags": []
          },
          "execution_count": 79
        }
      ]
    },
    {
      "cell_type": "markdown",
      "metadata": {
        "id": "rTGcLtU6THBm"
      },
      "source": [
        "### Tensorflow Indexing"
      ]
    },
    {
      "cell_type": "code",
      "metadata": {
        "colab": {
          "base_uri": "https://localhost:8080/"
        },
        "id": "lEPwvh84QKVc",
        "outputId": "0b88f7c8-f586-4f89-ce9f-96e74c6116ca"
      },
      "source": [
        "print(\"Type of every element:\", Ones_matrix.dtype)\n",
        "print(\"Number of dimensions:\", Ones_matrix.ndim)\n",
        "print(\"Shape of tensor:\", Ones_matrix.shape)\n",
        "print(\"Elements along axis 0 of tensor:\", Ones_matrix.shape[0])\n",
        "print(\"Elements along the last axis of tensor:\", Ones_matrix.shape[-1])\n",
        "print(\"Total number of elements (3*2*4*5): \", tf.size(Ones_matrix).numpy())"
      ],
      "execution_count": null,
      "outputs": [
        {
          "output_type": "stream",
          "text": [
            "Type of every element: <dtype: 'float32'>\n",
            "Number of dimensions: 2\n",
            "Shape of tensor: (4, 5)\n",
            "Elements along axis 0 of tensor: 4\n",
            "Elements along the last axis of tensor: 5\n",
            "Total number of elements (3*2*4*5):  20\n"
          ],
          "name": "stdout"
        }
      ]
    },
    {
      "cell_type": "code",
      "metadata": {
        "colab": {
          "base_uri": "https://localhost:8080/"
        },
        "id": "ei9AeuZS_0xY",
        "outputId": "fa7f48b3-a96d-4771-fc16-89b9189a8e96"
      },
      "source": [
        "rank_1_tensor = tf.constant([0, 1, 1, 2, 3, 5, 8, 13, 21, 34])\n",
        "print(rank_1_tensor.numpy())\n",
        "\n",
        "# When tensors are Indexed with a scalar, it removes the dimension\n",
        "print(\"First:\", rank_1_tensor[0].numpy())\n",
        "print(\"Second:\", rank_1_tensor[1].numpy())\n",
        "print(\"Last:\", rank_1_tensor[-1].numpy())\n",
        "# When tensors are Indexed with a `:` slice keeps the dimension\n",
        "print(\"Everything:\", rank_1_tensor[:].numpy())\n",
        "print(\"Before 4:\", rank_1_tensor[:4].numpy())\n",
        "print(\"From 4 to the end:\", rank_1_tensor[4:].numpy())\n",
        "print(\"From 2, before 7:\", rank_1_tensor[2:7].numpy())\n",
        "print(\"Every other item:\", rank_1_tensor[::2].numpy())\n",
        "print(\"Reversed:\", rank_1_tensor[::-1].numpy())"
      ],
      "execution_count": null,
      "outputs": [
        {
          "output_type": "stream",
          "text": [
            "[ 0  1  1  2  3  5  8 13 21 34]\n",
            "First: 0\n",
            "Second: 1\n",
            "Last: 34\n",
            "Everything: [ 0  1  1  2  3  5  8 13 21 34]\n",
            "Before 4: [0 1 1 2]\n",
            "From 4 to the end: [ 3  5  8 13 21 34]\n",
            "From 2, before 7: [1 2 3 5 8]\n",
            "Every other item: [ 0  1  3  8 21]\n",
            "Reversed: [34 21 13  8  5  3  2  1  1  0]\n"
          ],
          "name": "stdout"
        }
      ]
    },
    {
      "cell_type": "code",
      "metadata": {
        "colab": {
          "base_uri": "https://localhost:8080/"
        },
        "id": "g2I9SkSR_o2H",
        "outputId": "508ba2eb-cc65-49b8-f421-4327d0825eb7"
      },
      "source": [
        "rank_2_tensor = tf.constant([[1, 2],\n",
        "                             [3, 4],\n",
        "                             [5, 6],\n",
        "                             [7, 8]], dtype=tf.int32)\n",
        "print(rank_2_tensor)\n",
        "\n",
        "# Indexed tensors using any combination integers and slices `:`\n",
        "# Get row and column tensors\n",
        "print(\"Second row:\", rank_2_tensor[1, :].numpy(),\"\\n\")\n",
        "print(\"Second column:\", rank_2_tensor[:, 1].numpy(),\"\\n\")\n",
        "print(\"Last row:\", rank_2_tensor[-1, :].numpy(),\"\\n\")\n",
        "print(\"First item in last column:\", rank_2_tensor[0, -1].numpy(),\"\\n\")\n",
        "print(\"Skip the first row:\")\n",
        "print(rank_2_tensor[1:, :].numpy(), \"\\n\")"
      ],
      "execution_count": null,
      "outputs": [
        {
          "output_type": "stream",
          "text": [
            "tf.Tensor(\n",
            "[[1 2]\n",
            " [3 4]\n",
            " [5 6]\n",
            " [7 8]], shape=(4, 2), dtype=int32)\n",
            "Second row: [3 4] \n",
            "\n",
            "Second column: [2 4 6 8] \n",
            "\n",
            "Last row: [7 8] \n",
            "\n",
            "First item in last column: 2 \n",
            "\n",
            "Skip the first row:\n",
            "[[3 4]\n",
            " [5 6]\n",
            " [7 8]] \n",
            "\n"
          ],
          "name": "stdout"
        }
      ]
    },
    {
      "cell_type": "markdown",
      "metadata": {
        "id": "cCEsEyoOTLff"
      },
      "source": [
        "### Reshape & Transpose"
      ]
    },
    {
      "cell_type": "code",
      "metadata": {
        "colab": {
          "base_uri": "https://localhost:8080/"
        },
        "id": "VvVUoqbs_n1x",
        "outputId": "f4a83b2e-7d2b-4e6e-846b-d850ee980806"
      },
      "source": [
        "print(rank_2_tensor,\"\\n\")\n",
        "print(tf.reshape(rank_2_tensor, [8]),\"\\n\")  # 6,1\n",
        "print(tf.reshape(rank_2_tensor, [2,4]),\"\\n\")\n",
        "print(tf.reshape(rank_2_tensor, [2,2,2]),\"\\n\")"
      ],
      "execution_count": null,
      "outputs": [
        {
          "output_type": "stream",
          "text": [
            "tf.Tensor(\n",
            "[[1 2]\n",
            " [3 4]\n",
            " [5 6]\n",
            " [7 8]], shape=(4, 2), dtype=int32) \n",
            "\n",
            "tf.Tensor([1 2 3 4 5 6 7 8], shape=(8,), dtype=int32) \n",
            "\n",
            "tf.Tensor(\n",
            "[[1 2 3 4]\n",
            " [5 6 7 8]], shape=(2, 4), dtype=int32) \n",
            "\n",
            "tf.Tensor(\n",
            "[[[1 2]\n",
            "  [3 4]]\n",
            "\n",
            " [[5 6]\n",
            "  [7 8]]], shape=(2, 2, 2), dtype=int32) \n",
            "\n"
          ],
          "name": "stdout"
        }
      ]
    },
    {
      "cell_type": "code",
      "metadata": {
        "colab": {
          "base_uri": "https://localhost:8080/"
        },
        "id": "r436uR_DULLw",
        "outputId": "a069c119-f6e7-4bec-c819-6138c7330245"
      },
      "source": [
        "print(rank_2_tensor,\"\\n\")\n",
        "print(tf.reshape(rank_2_tensor, [8]),\"\\n\")  # 8,1 ==> 8 rows, 1 column\n",
        "print(tf.reshape(rank_2_tensor, [2,4]),\"\\n\")\n",
        "print(tf.reshape(rank_2_tensor, [2,2,2]),\"\\n\")\n",
        "print(tf.reshape(rank_2_tensor, [-1]),\"\\n\")"
      ],
      "execution_count": null,
      "outputs": [
        {
          "output_type": "stream",
          "text": [
            "tf.Tensor(\n",
            "[[1 2]\n",
            " [3 4]\n",
            " [5 6]\n",
            " [7 8]], shape=(4, 2), dtype=int32) \n",
            "\n",
            "tf.Tensor([1 2 3 4 5 6 7 8], shape=(8,), dtype=int32) \n",
            "\n",
            "tf.Tensor(\n",
            "[[1 2 3 4]\n",
            " [5 6 7 8]], shape=(2, 4), dtype=int32) \n",
            "\n",
            "tf.Tensor(\n",
            "[[[1 2]\n",
            "  [3 4]]\n",
            "\n",
            " [[5 6]\n",
            "  [7 8]]], shape=(2, 2, 2), dtype=int32) \n",
            "\n",
            "tf.Tensor([1 2 3 4 5 6 7 8], shape=(8,), dtype=int32) \n",
            "\n"
          ],
          "name": "stdout"
        }
      ]
    },
    {
      "cell_type": "code",
      "metadata": {
        "colab": {
          "base_uri": "https://localhost:8080/"
        },
        "id": "4tOUcL9JVUls",
        "outputId": "5fa7b6a6-1977-4602-91e8-0ab17a18e84f"
      },
      "source": [
        "print(rank_2_tensor,\"\\n\")\n",
        "print(\"Transposes\",\"\\n\") # Transpose coverts row into column, column into row\n",
        "print(tf.transpose(rank_2_tensor),\"\\n\")\n",
        "print(tf.transpose(tf.reshape(rank_2_tensor, [8])),\"\\n\")  # Not transposing as a column\n",
        "print(tf.transpose(tf.reshape(rank_2_tensor, [2,4])),\"\\n\")\n",
        "print(tf.transpose(tf.reshape(rank_2_tensor, [2,2,2])),\"\\n\")\n",
        "print(tf.transpose(tf.reshape(rank_2_tensor, [-1])),\"\\n\")"
      ],
      "execution_count": null,
      "outputs": [
        {
          "output_type": "stream",
          "text": [
            "tf.Tensor(\n",
            "[[1 2]\n",
            " [3 4]\n",
            " [5 6]\n",
            " [7 8]], shape=(4, 2), dtype=int32) \n",
            "\n",
            "Transposes \n",
            "\n",
            "tf.Tensor(\n",
            "[[1 3 5 7]\n",
            " [2 4 6 8]], shape=(2, 4), dtype=int32) \n",
            "\n",
            "tf.Tensor([1 2 3 4 5 6 7 8], shape=(8,), dtype=int32) \n",
            "\n",
            "tf.Tensor([[1 2 3 4 5 6 7 8]], shape=(1, 8), dtype=int32) \n",
            "\n",
            "tf.Tensor(\n",
            "[[1 5]\n",
            " [2 6]\n",
            " [3 7]\n",
            " [4 8]], shape=(4, 2), dtype=int32) \n",
            "\n",
            "tf.Tensor(\n",
            "[[[1 5]\n",
            "  [3 7]]\n",
            "\n",
            " [[2 6]\n",
            "  [4 8]]], shape=(2, 2, 2), dtype=int32) \n",
            "\n",
            "tf.Tensor([1 2 3 4 5 6 7 8], shape=(8,), dtype=int32) \n",
            "\n"
          ],
          "name": "stdout"
        }
      ]
    },
    {
      "cell_type": "code",
      "metadata": {
        "colab": {
          "base_uri": "https://localhost:8080/"
        },
        "id": "kw8KYa8H_mBi",
        "outputId": "9f54a3a2-3456-47bf-c15e-26c37fec5e80"
      },
      "source": [
        "rank_3_tensor = tf.constant([\n",
        "  [[0, 1, 2, 3, 4],\n",
        "   [5, 6, 7, 8, 9]],\n",
        "  [[10, 11, 12, 13, 14],\n",
        "   [15, 16, 17, 18, 19]],\n",
        "  [[20, 21, 22, 23, 24],\n",
        "   [25, 26, 27, 28, 29]],])\n",
        "                    \n",
        "print(rank_3_tensor, \"\\n\")\n",
        "print(tf.reshape(rank_3_tensor, [-1]), \"\\n\")\n",
        "print(tf.reshape(rank_3_tensor, [3*2, 5]), \"\\n\")\n",
        "print(tf.reshape(rank_3_tensor, [3, -1]), \"\\n\")  # shape=(3, 10) ==> -1 is automatic"
      ],
      "execution_count": null,
      "outputs": [
        {
          "output_type": "stream",
          "text": [
            "tf.Tensor(\n",
            "[[[ 0  1  2  3  4]\n",
            "  [ 5  6  7  8  9]]\n",
            "\n",
            " [[10 11 12 13 14]\n",
            "  [15 16 17 18 19]]\n",
            "\n",
            " [[20 21 22 23 24]\n",
            "  [25 26 27 28 29]]], shape=(3, 2, 5), dtype=int32) \n",
            "\n",
            "tf.Tensor(\n",
            "[ 0  1  2  3  4  5  6  7  8  9 10 11 12 13 14 15 16 17 18 19 20 21 22 23\n",
            " 24 25 26 27 28 29], shape=(30,), dtype=int32) \n",
            "\n",
            "tf.Tensor(\n",
            "[[ 0  1  2  3  4]\n",
            " [ 5  6  7  8  9]\n",
            " [10 11 12 13 14]\n",
            " [15 16 17 18 19]\n",
            " [20 21 22 23 24]\n",
            " [25 26 27 28 29]], shape=(6, 5), dtype=int32) \n",
            "\n",
            "tf.Tensor(\n",
            "[[ 0  1  2  3  4  5  6  7  8  9]\n",
            " [10 11 12 13 14 15 16 17 18 19]\n",
            " [20 21 22 23 24 25 26 27 28 29]], shape=(3, 10), dtype=int32) \n",
            "\n"
          ],
          "name": "stdout"
        }
      ]
    },
    {
      "cell_type": "code",
      "metadata": {
        "colab": {
          "base_uri": "https://localhost:8080/"
        },
        "id": "-Dk1Ew_q_fGQ",
        "outputId": "d3b30a77-337e-42c8-92a1-6dd2c6cedb8e"
      },
      "source": [
        "# `tf.cast` casts a tensor to a new data type.\n",
        "# TODO 2b\n",
        "the_f64_tensor = tf.constant([2.2, 3.3, 4.4], dtype=tf.float64)\n",
        "the_f16_tensor = tf.cast(the_f64_tensor, dtype=tf.float16)\n",
        "# Now, let's cast to an uint8 and lose the decimal precision\n",
        "the_u8_tensor = tf.cast(the_f16_tensor, dtype=tf.uint8)\n",
        "print(the_u8_tensor)"
      ],
      "execution_count": null,
      "outputs": [
        {
          "output_type": "stream",
          "text": [
            "tf.Tensor([2 3 4], shape=(3,), dtype=uint8)\n"
          ],
          "name": "stdout"
        }
      ]
    },
    {
      "cell_type": "code",
      "metadata": {
        "colab": {
          "base_uri": "https://localhost:8080/"
        },
        "id": "dQZjzmsw_feg",
        "outputId": "2500f031-b8a2-4fb5-a876-d04edc9fc81c"
      },
      "source": [
        "# [1,3] shaped tensor is converted to [3,3] shape\n",
        "print(tf.broadcast_to(tf.constant([1, 2, 3]), [3, 3]))"
      ],
      "execution_count": null,
      "outputs": [
        {
          "output_type": "stream",
          "text": [
            "tf.Tensor(\n",
            "[[1 2 3]\n",
            " [1 2 3]\n",
            " [1 2 3]], shape=(3, 3), dtype=int32)\n"
          ],
          "name": "stdout"
        }
      ]
    },
    {
      "cell_type": "code",
      "metadata": {
        "colab": {
          "base_uri": "https://localhost:8080/"
        },
        "id": "rNukT05rhtl7",
        "outputId": "1b7ec340-c089-4400-d13b-818589641990"
      },
      "source": [
        "# We can use split to split a string into a set of tensors\n",
        "scalar_string_tensor = tf.constant(\"Gray wolf\")\n",
        "print(scalar_string_tensor)\n",
        "print(tf.strings.split(scalar_string_tensor, sep=\" \"))"
      ],
      "execution_count": null,
      "outputs": [
        {
          "output_type": "stream",
          "text": [
            "tf.Tensor(b'Gray wolf', shape=(), dtype=string)\n",
            "tf.Tensor([b'Gray' b'wolf'], shape=(2,), dtype=string)\n"
          ],
          "name": "stdout"
        }
      ]
    },
    {
      "cell_type": "code",
      "metadata": {
        "colab": {
          "base_uri": "https://localhost:8080/"
        },
        "id": "WMIWpHVHhtiv",
        "outputId": "8a95d769-7005-49e0-882a-1be927bfd27c"
      },
      "source": [
        "# If we have two string tensors of different lengths, this is OK.\n",
        "tensor_of_strings = tf.constant([\"Gray wolf\",\n",
        "                                 \"Quick brown fox\",\n",
        "                                 \"Lazy dog\"])\n",
        "# Note that the shape is (2,), indicating that it is 2 x unknown.\n",
        "print(tensor_of_strings)\n",
        "print(tf.strings.split(tensor_of_strings))"
      ],
      "execution_count": null,
      "outputs": [
        {
          "output_type": "stream",
          "text": [
            "tf.Tensor([b'Gray wolf' b'Quick brown fox' b'Lazy dog'], shape=(3,), dtype=string)\n",
            "<tf.RaggedTensor [[b'Gray', b'wolf'], [b'Quick', b'brown', b'fox'], [b'Lazy', b'dog']]>\n"
          ],
          "name": "stdout"
        }
      ]
    },
    {
      "cell_type": "code",
      "metadata": {
        "colab": {
          "base_uri": "https://localhost:8080/"
        },
        "id": "MgMaYrbYhtfi",
        "outputId": "82fec14e-ef3d-4a5c-eeae-998f241a2967"
      },
      "source": [
        "x = tf.Variable(5.6)\n",
        "\n",
        "# The .assign() method will assign the value to referance object.\n",
        "x.assign(45.8)\n",
        "print(x)\n",
        "\n",
        "# The .assign_add() method will update the referance object by adding value to it.\n",
        "x.assign_add(4)\n",
        "print(x)\n",
        "\n",
        "# The .assign_add() method will update the referance object by subtracting value to it.\n",
        "x.assign_sub(3) \n",
        "print(x)"
      ],
      "execution_count": null,
      "outputs": [
        {
          "output_type": "stream",
          "text": [
            "<tf.Variable 'Variable:0' shape=() dtype=float32, numpy=45.8>\n",
            "<tf.Variable 'Variable:0' shape=() dtype=float32, numpy=49.8>\n",
            "<tf.Variable 'Variable:0' shape=() dtype=float32, numpy=46.8>\n"
          ],
          "name": "stdout"
        }
      ]
    },
    {
      "cell_type": "code",
      "metadata": {
        "colab": {
          "base_uri": "https://localhost:8080/"
        },
        "id": "Ld1_AXCehtah",
        "outputId": "155d18a0-3f72-4383-dca5-2fc13f19b9e3"
      },
      "source": [
        "# Creates a constant tensor from a tensor-like object.\n",
        "a = tf.constant([5, 3, 8]) # TODO 1a\n",
        "b = tf.constant([3, -1, 2])\n",
        "# Using the .add() method components of a tensor will be added.\n",
        "print(tf.add(a, b))\n",
        "\n",
        "# Using the .multiply() method components of a tensor will be multiplied.\n",
        "print(tf.multiply(a, b))\n",
        "\n",
        "# tf.math.exp expects floats so we need to explicitly give the type\n",
        "# tf.math.exp(a)"
      ],
      "execution_count": null,
      "outputs": [
        {
          "output_type": "stream",
          "text": [
            "tf.Tensor([ 8  2 10], shape=(3,), dtype=int32)\n",
            "tf.Tensor([15 -3 16], shape=(3,), dtype=int32)\n"
          ],
          "name": "stdout"
        }
      ]
    },
    {
      "cell_type": "markdown",
      "metadata": {
        "id": "-lT4JHLht-Mq"
      },
      "source": [
        "### Load Data with tf.data\n",
        "https://colab.research.google.com/github/adammichaelwood/tf-docs/blob/csv-feature-columns/site/en/r2/tutorials/load_data/csv.ipynb#scrollTo=tSyrkSQwYHKi"
      ]
    },
    {
      "cell_type": "code",
      "metadata": {
        "colab": {
          "base_uri": "https://localhost:8080/"
        },
        "id": "T9c3fOQCnFi8",
        "outputId": "afdc7f03-f2dc-4ea1-a49a-c9047d53c6b6"
      },
      "source": [
        "# get_dataset() retrieve a Dataverse dataset or its metadata\n",
        "def get_dataset(file_path, **kwargs):\n",
        " # TODO 2 \n",
        " # Use `tf.data.experimental.make_csv_dataset()` to read CSV files into a dataset.\n",
        "  dataset = tf.data.experimental.make_csv_dataset(\n",
        "      file_path,\n",
        "      batch_size=5, # Artificially small to make examples easier to show.\n",
        "      label_name=LABEL_COLUMN,\n",
        "      na_value=\"?\",\n",
        "      num_epochs=1,\n",
        "      ignore_errors=True, \n",
        "      **kwargs)\n",
        "  return dataset\n",
        "\n",
        "raw_train_data = get_dataset(train_file_path)\n",
        "raw_test_data = get_dataset(test_file_path)"
      ],
      "execution_count": null,
      "outputs": [
        {
          "output_type": "execute_result",
          "data": {
            "text/plain": [
              "<tf.Tensor: shape=(3,), dtype=int32, numpy=array([15, -3, 16], dtype=int32)>"
            ]
          },
          "metadata": {
            "tags": []
          },
          "execution_count": 117
        }
      ]
    },
    {
      "cell_type": "markdown",
      "metadata": {
        "id": "8mv99e2Uv1v-"
      },
      "source": [
        "### tf.feature_column \n",
        "https://www.tensorflow.org/api_docs/python/tf/feature_column\n",
        "\n",
        "https://github.com/GoogleCloudPlatform/training-data-analyst/blob/master/courses/machine_learning/deepdive2/introduction_to_tensorflow/solutions/feat.cols_tf.data.ipynb\n"
      ]
    },
    {
      "cell_type": "code",
      "metadata": {
        "id": "27RxborBv0Df"
      },
      "source": [
        "# Normalize numeric data\n",
        "tf.feature_column.numeric_column('numeric', normalizer_fn=normalizer, shape=[len(NUMERIC_FEATURES)])\n",
        "\n",
        "# `tf.keras.layers.DenseFeatures()` produces a dense Tensor based on given feature_columns.\n",
        "tf.keras.layers.DenseFeatures(numeric_columns)\n",
        "\n",
        "# `tf.keras.layers.DenseFeatures()` produces a dense Tensor based on given feature_columns.\n",
        "numeric_layer = tf.keras.layers.DenseFeatures(numeric_columns)\n",
        "numeric_layer(example_batch).numpy()"
      ],
      "execution_count": null,
      "outputs": []
    },
    {
      "cell_type": "code",
      "metadata": {
        "id": "669ldmioxkHm"
      },
      "source": [
        "# processing categorical columns - https://github.com/GoogleCloudPlatform/training-data-analyst/blob/master/courses/machine_learning/deepdive2/introduction_to_tensorflow/solutions/load_diff_filedata.ipynb\n",
        "# `tf.keras.layers.DenseFeatures()` produces a dense Tensor based on given feature_columns.\n",
        "categorical_layer = tf.keras.layers.DenseFeatures(categorical_columns)\n",
        "\n",
        "# Add the two feature column collections\n",
        "# Pass them to a `tf.keras.layers.DenseFeatures()` to create an input layer.\n",
        "# TODO 1\n",
        "preprocessing_layer = tf.keras.layers.DenseFeatures(categorical_columns+numeric_columns)"
      ],
      "execution_count": null,
      "outputs": []
    },
    {
      "cell_type": "code",
      "metadata": {
        "id": "HmveCb5yxqfw"
      },
      "source": [
        "# Similar to one-hot encoding for that ranges of values\n",
        "age_buckets = tf.feature_column.bucketized_column(age, boundaries=[18, 25, 30, 35, 40, 45, 50, 55, 60, 65])\n",
        "\n",
        "tf.feature_column.categorical_column_with_vocabulary_list('Var', ['Cat1', 'Cat2', 'Cat3'])\n",
        "\n",
        "tf.feature_column.embedding_column(Var, dimension=8)"
      ],
      "execution_count": null,
      "outputs": []
    },
    {
      "cell_type": "markdown",
      "metadata": {
        "id": "4A7FoC1zGVP6"
      },
      "source": [
        "### Read and write data using TFRecords \n",
        "* tf.train.Example \n",
        "* tf.train.SequenceExample\n",
        "\n",
        "https://github.com/GoogleCloudPlatform/training-data-analyst/blob/master/courses/machine_learning/deepdive2/introduction_to_tensorflow/solutions/tfrecord-tf.example.ipynb"
      ]
    },
    {
      "cell_type": "code",
      "metadata": {
        "id": "wazk_3GRGwji"
      },
      "source": [
        ""
      ],
      "execution_count": null,
      "outputs": []
    },
    {
      "cell_type": "code",
      "metadata": {
        "id": "gktgrnRUGxKh"
      },
      "source": [
        ""
      ],
      "execution_count": null,
      "outputs": []
    },
    {
      "cell_type": "code",
      "metadata": {
        "id": "1uQmjck0GxGw"
      },
      "source": [
        ""
      ],
      "execution_count": null,
      "outputs": []
    },
    {
      "cell_type": "code",
      "metadata": {
        "id": "EhpHkdB1GxDe"
      },
      "source": [
        ""
      ],
      "execution_count": null,
      "outputs": []
    },
    {
      "cell_type": "code",
      "metadata": {
        "id": "3yAlN_rrGxAU"
      },
      "source": [
        ""
      ],
      "execution_count": null,
      "outputs": []
    },
    {
      "cell_type": "code",
      "metadata": {
        "id": "LtfBHuXnGw7y"
      },
      "source": [
        ""
      ],
      "execution_count": null,
      "outputs": []
    }
  ]
}